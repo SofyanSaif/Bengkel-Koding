{
  "cells": [
    {
      "cell_type": "markdown",
      "metadata": {
        "id": "z39rf42oMeYn"
      },
      "source": [
        "#Capstone Project Bengkel Koding\n",
        "\n",
        "- Nama : Sofyan Saif Pahlevi\n",
        "- NIM : A11.2022.14006\n",
        "- Kelp : DS-02"
      ]
    },
    {
      "cell_type": "markdown",
      "metadata": {
        "id": "f405vNS7M8dr"
      },
      "source": [
        "###Import Library"
      ]
    },
    {
      "cell_type": "code",
      "execution_count": 1,
      "metadata": {
        "id": "ZVUY4pDFMYnW"
      },
      "outputs": [],
      "source": [
        "import pandas as pd\n",
        "import matplotlib.pyplot as plt\n",
        "import seaborn as sns\n",
        "\n",
        "from sklearn.preprocessing import LabelEncoder, StandardScaler\n",
        "from imblearn.over_sampling import SMOTE\n",
        "\n",
        "from sklearn.model_selection import train_test_split\n",
        "from sklearn.linear_model import LogisticRegression\n",
        "from sklearn.ensemble import RandomForestClassifier\n",
        "from sklearn.neighbors import KNeighborsClassifier\n",
        "from sklearn.metrics import classification_report, confusion_matrix, accuracy_score, precision_score, recall_score, f1_score\n",
        "from sklearn.model_selection import GridSearchCV\n",
        "import matplotlib.pyplot as plt"
      ]
    },
    {
      "cell_type": "markdown",
      "metadata": {
        "id": "6NBnXWyoNMUF"
      },
      "source": [
        "###Load Dataset"
      ]
    },
    {
      "cell_type": "code",
      "execution_count": 2,
      "metadata": {
        "id": "-H6fTMZKNO9C"
      },
      "outputs": [],
      "source": [
        "file_path = 'ObesityDataSet.csv'\n",
        "df = pd.read_csv(file_path)"
      ]
    },
    {
      "cell_type": "markdown",
      "metadata": {
        "id": "JmXMlL6fPUVl"
      },
      "source": [
        "Langkah ini digunakan untuk membaca data dari file CSV ke dalam DataFrame. Ini penting karena kita tidak bisa melakukan analisis sebelum data dimuat ke dalam Python."
      ]
    },
    {
      "cell_type": "code",
      "execution_count": 3,
      "metadata": {
        "id": "4uDY3A9BP4cl",
        "colab": {
          "base_uri": "https://localhost:8080/"
        },
        "outputId": "a6fb1e03-085a-45e7-e593-7378f414c5b6"
      },
      "outputs": [
        {
          "output_type": "stream",
          "name": "stdout",
          "text": [
            "Beberapa Baris Pertama Dataset:\n",
            "  Age  Gender Height Weight        CALC FAVC FCVC NCP  SCC SMOKE CH2O  \\\n",
            "0  21  Female   1.62     64          no   no    2   3   no    no    2   \n",
            "1  21  Female   1.52     56   Sometimes   no    3   3  yes   yes    3   \n",
            "2  23    Male    1.8     77  Frequently   no    2   3   no    no    2   \n",
            "3  27    Male    1.8     87  Frequently   no    3   3   no    no    2   \n",
            "4  22    Male   1.78   89.8   Sometimes   no    2   1   no    no    2   \n",
            "\n",
            "  family_history_with_overweight FAF TUE       CAEC                 MTRANS  \\\n",
            "0                            yes   0   1  Sometimes  Public_Transportation   \n",
            "1                            yes   3   0  Sometimes  Public_Transportation   \n",
            "2                            yes   2   1  Sometimes  Public_Transportation   \n",
            "3                             no   2   0  Sometimes                Walking   \n",
            "4                             no   0   0  Sometimes  Public_Transportation   \n",
            "\n",
            "            NObeyesdad  \n",
            "0        Normal_Weight  \n",
            "1        Normal_Weight  \n",
            "2        Normal_Weight  \n",
            "3   Overweight_Level_I  \n",
            "4  Overweight_Level_II  \n"
          ]
        }
      ],
      "source": [
        "#Tampilkan beberapa baris pertama dan informasi umum dataset\n",
        "print(\"Beberapa Baris Pertama Dataset:\")\n",
        "print(df.head())"
      ]
    },
    {
      "cell_type": "markdown",
      "metadata": {
        "id": "LjGbRorAOjen"
      },
      "source": [
        "Untuk melihat lima baris pertama dari dataset. Ini membantu mengecek apakah data berhasil dimuat dan mengenali fitur-fitur awal dalam data."
      ]
    },
    {
      "cell_type": "code",
      "execution_count": 4,
      "metadata": {
        "id": "Uo73pjPhPzDH",
        "colab": {
          "base_uri": "https://localhost:8080/"
        },
        "outputId": "54b8a692-9017-442f-d6c8-cfc2bc690f00"
      },
      "outputs": [
        {
          "output_type": "stream",
          "name": "stdout",
          "text": [
            "\n",
            "Informasi Umum Dataset:\n",
            "<class 'pandas.core.frame.DataFrame'>\n",
            "RangeIndex: 2111 entries, 0 to 2110\n",
            "Data columns (total 17 columns):\n",
            " #   Column                          Non-Null Count  Dtype \n",
            "---  ------                          --------------  ----- \n",
            " 0   Age                             2097 non-null   object\n",
            " 1   Gender                          2102 non-null   object\n",
            " 2   Height                          2099 non-null   object\n",
            " 3   Weight                          2100 non-null   object\n",
            " 4   CALC                            2106 non-null   object\n",
            " 5   FAVC                            2100 non-null   object\n",
            " 6   FCVC                            2103 non-null   object\n",
            " 7   NCP                             2099 non-null   object\n",
            " 8   SCC                             2101 non-null   object\n",
            " 9   SMOKE                           2106 non-null   object\n",
            " 10  CH2O                            2105 non-null   object\n",
            " 11  family_history_with_overweight  2098 non-null   object\n",
            " 12  FAF                             2103 non-null   object\n",
            " 13  TUE                             2102 non-null   object\n",
            " 14  CAEC                            2100 non-null   object\n",
            " 15  MTRANS                          2105 non-null   object\n",
            " 16  NObeyesdad                      2111 non-null   object\n",
            "dtypes: object(17)\n",
            "memory usage: 280.5+ KB\n",
            "None\n"
          ]
        }
      ],
      "source": [
        "print(\"\\nInformasi Umum Dataset:\")\n",
        "df_info = df.info()\n",
        "print(df_info)"
      ]
    },
    {
      "cell_type": "markdown",
      "metadata": {
        "id": "uGp2hD4xWIba"
      },
      "source": [
        "Memberikan informasi tipe data, jumlah non-null, dan jumlah total entri tiap kolom. Ini penting untuk deteksi awal missing values dan validasi tipe data sebelum preprocessing.\n"
      ]
    },
    {
      "cell_type": "markdown",
      "metadata": {
        "id": "x_aX7Nn87e2M"
      },
      "source": [
        "Dapat terlihat dari informasi dataset bahwa :\n",
        "  1. Jumlah baris dan kolom: Terdapat 2111 entri data dan 17 kolom.\n",
        "  2. Tipe data: Semua kolom memiliki tipe data objek (string), yang menunjukkan bahwa data ini mungkin memerlukan konversi tipe untuk analisis lebih lanjut (misalnya, kolom numerik yang masih bertipe objek).\n",
        "  3. Kolom dengan nilai kosong: Beberapa kolom memiliki nilai yang hilang (misalnya, kolom Age, Height, Weight, dll)."
      ]
    },
    {
      "cell_type": "markdown",
      "metadata": {
        "id": "gNj_ATNSM3gt"
      },
      "source": [
        "##Exploratory Data Analysis (EDA)"
      ]
    },
    {
      "cell_type": "code",
      "execution_count": 5,
      "metadata": {
        "id": "wRdLTPE78CuK",
        "colab": {
          "base_uri": "https://localhost:8080/",
          "height": 617
        },
        "outputId": "21c5501d-07c2-4ff1-b18c-3cc1acfc60fb"
      },
      "outputs": [
        {
          "output_type": "execute_result",
          "data": {
            "text/plain": [
              "Age                               14\n",
              "Gender                             9\n",
              "Height                            12\n",
              "Weight                            11\n",
              "CALC                               5\n",
              "FAVC                              11\n",
              "FCVC                               8\n",
              "NCP                               12\n",
              "SCC                               10\n",
              "SMOKE                              5\n",
              "CH2O                               6\n",
              "family_history_with_overweight    13\n",
              "FAF                                8\n",
              "TUE                                9\n",
              "CAEC                              11\n",
              "MTRANS                             6\n",
              "NObeyesdad                         0\n",
              "dtype: int64"
            ],
            "text/html": [
              "<div>\n",
              "<style scoped>\n",
              "    .dataframe tbody tr th:only-of-type {\n",
              "        vertical-align: middle;\n",
              "    }\n",
              "\n",
              "    .dataframe tbody tr th {\n",
              "        vertical-align: top;\n",
              "    }\n",
              "\n",
              "    .dataframe thead th {\n",
              "        text-align: right;\n",
              "    }\n",
              "</style>\n",
              "<table border=\"1\" class=\"dataframe\">\n",
              "  <thead>\n",
              "    <tr style=\"text-align: right;\">\n",
              "      <th></th>\n",
              "      <th>0</th>\n",
              "    </tr>\n",
              "  </thead>\n",
              "  <tbody>\n",
              "    <tr>\n",
              "      <th>Age</th>\n",
              "      <td>14</td>\n",
              "    </tr>\n",
              "    <tr>\n",
              "      <th>Gender</th>\n",
              "      <td>9</td>\n",
              "    </tr>\n",
              "    <tr>\n",
              "      <th>Height</th>\n",
              "      <td>12</td>\n",
              "    </tr>\n",
              "    <tr>\n",
              "      <th>Weight</th>\n",
              "      <td>11</td>\n",
              "    </tr>\n",
              "    <tr>\n",
              "      <th>CALC</th>\n",
              "      <td>5</td>\n",
              "    </tr>\n",
              "    <tr>\n",
              "      <th>FAVC</th>\n",
              "      <td>11</td>\n",
              "    </tr>\n",
              "    <tr>\n",
              "      <th>FCVC</th>\n",
              "      <td>8</td>\n",
              "    </tr>\n",
              "    <tr>\n",
              "      <th>NCP</th>\n",
              "      <td>12</td>\n",
              "    </tr>\n",
              "    <tr>\n",
              "      <th>SCC</th>\n",
              "      <td>10</td>\n",
              "    </tr>\n",
              "    <tr>\n",
              "      <th>SMOKE</th>\n",
              "      <td>5</td>\n",
              "    </tr>\n",
              "    <tr>\n",
              "      <th>CH2O</th>\n",
              "      <td>6</td>\n",
              "    </tr>\n",
              "    <tr>\n",
              "      <th>family_history_with_overweight</th>\n",
              "      <td>13</td>\n",
              "    </tr>\n",
              "    <tr>\n",
              "      <th>FAF</th>\n",
              "      <td>8</td>\n",
              "    </tr>\n",
              "    <tr>\n",
              "      <th>TUE</th>\n",
              "      <td>9</td>\n",
              "    </tr>\n",
              "    <tr>\n",
              "      <th>CAEC</th>\n",
              "      <td>11</td>\n",
              "    </tr>\n",
              "    <tr>\n",
              "      <th>MTRANS</th>\n",
              "      <td>6</td>\n",
              "    </tr>\n",
              "    <tr>\n",
              "      <th>NObeyesdad</th>\n",
              "      <td>0</td>\n",
              "    </tr>\n",
              "  </tbody>\n",
              "</table>\n",
              "</div><br><label><b>dtype:</b> int64</label>"
            ]
          },
          "metadata": {},
          "execution_count": 5
        }
      ],
      "source": [
        "# Mengecek missing values\n",
        "missing_values = df.isnull().sum()\n",
        "\n",
        "missing_values"
      ]
    },
    {
      "cell_type": "code",
      "execution_count": 6,
      "metadata": {
        "id": "E2ky5qBr8Cnb",
        "colab": {
          "base_uri": "https://localhost:8080/",
          "height": 617
        },
        "outputId": "b621a337-113b-4035-fd1a-6e58b4d7df14"
      },
      "outputs": [
        {
          "output_type": "execute_result",
          "data": {
            "text/plain": [
              "Age                               1394\n",
              "Gender                               3\n",
              "Height                            1562\n",
              "Weight                            1518\n",
              "CALC                                 5\n",
              "FAVC                                 3\n",
              "FCVC                               808\n",
              "NCP                                637\n",
              "SCC                                  3\n",
              "SMOKE                                3\n",
              "CH2O                              1263\n",
              "family_history_with_overweight       3\n",
              "FAF                               1186\n",
              "TUE                               1130\n",
              "CAEC                                 5\n",
              "MTRANS                               6\n",
              "NObeyesdad                           7\n",
              "dtype: int64"
            ],
            "text/html": [
              "<div>\n",
              "<style scoped>\n",
              "    .dataframe tbody tr th:only-of-type {\n",
              "        vertical-align: middle;\n",
              "    }\n",
              "\n",
              "    .dataframe tbody tr th {\n",
              "        vertical-align: top;\n",
              "    }\n",
              "\n",
              "    .dataframe thead th {\n",
              "        text-align: right;\n",
              "    }\n",
              "</style>\n",
              "<table border=\"1\" class=\"dataframe\">\n",
              "  <thead>\n",
              "    <tr style=\"text-align: right;\">\n",
              "      <th></th>\n",
              "      <th>0</th>\n",
              "    </tr>\n",
              "  </thead>\n",
              "  <tbody>\n",
              "    <tr>\n",
              "      <th>Age</th>\n",
              "      <td>1394</td>\n",
              "    </tr>\n",
              "    <tr>\n",
              "      <th>Gender</th>\n",
              "      <td>3</td>\n",
              "    </tr>\n",
              "    <tr>\n",
              "      <th>Height</th>\n",
              "      <td>1562</td>\n",
              "    </tr>\n",
              "    <tr>\n",
              "      <th>Weight</th>\n",
              "      <td>1518</td>\n",
              "    </tr>\n",
              "    <tr>\n",
              "      <th>CALC</th>\n",
              "      <td>5</td>\n",
              "    </tr>\n",
              "    <tr>\n",
              "      <th>FAVC</th>\n",
              "      <td>3</td>\n",
              "    </tr>\n",
              "    <tr>\n",
              "      <th>FCVC</th>\n",
              "      <td>808</td>\n",
              "    </tr>\n",
              "    <tr>\n",
              "      <th>NCP</th>\n",
              "      <td>637</td>\n",
              "    </tr>\n",
              "    <tr>\n",
              "      <th>SCC</th>\n",
              "      <td>3</td>\n",
              "    </tr>\n",
              "    <tr>\n",
              "      <th>SMOKE</th>\n",
              "      <td>3</td>\n",
              "    </tr>\n",
              "    <tr>\n",
              "      <th>CH2O</th>\n",
              "      <td>1263</td>\n",
              "    </tr>\n",
              "    <tr>\n",
              "      <th>family_history_with_overweight</th>\n",
              "      <td>3</td>\n",
              "    </tr>\n",
              "    <tr>\n",
              "      <th>FAF</th>\n",
              "      <td>1186</td>\n",
              "    </tr>\n",
              "    <tr>\n",
              "      <th>TUE</th>\n",
              "      <td>1130</td>\n",
              "    </tr>\n",
              "    <tr>\n",
              "      <th>CAEC</th>\n",
              "      <td>5</td>\n",
              "    </tr>\n",
              "    <tr>\n",
              "      <th>MTRANS</th>\n",
              "      <td>6</td>\n",
              "    </tr>\n",
              "    <tr>\n",
              "      <th>NObeyesdad</th>\n",
              "      <td>7</td>\n",
              "    </tr>\n",
              "  </tbody>\n",
              "</table>\n",
              "</div><br><label><b>dtype:</b> int64</label>"
            ]
          },
          "metadata": {},
          "execution_count": 6
        }
      ],
      "source": [
        "# Mengecek unique values dan duplicates\n",
        "unique_values = df.nunique()\n",
        "\n",
        "unique_values"
      ]
    },
    {
      "cell_type": "code",
      "execution_count": 7,
      "metadata": {
        "id": "BRGcguAUQxTe",
        "colab": {
          "base_uri": "https://localhost:8080/"
        },
        "outputId": "02587711-eedb-4030-8745-1c2bc96e1e8c"
      },
      "outputs": [
        {
          "output_type": "execute_result",
          "data": {
            "text/plain": [
              "np.int64(18)"
            ]
          },
          "metadata": {},
          "execution_count": 7
        }
      ],
      "source": [
        "# Mengecek duplicates values\n",
        "duplicates = df.duplicated().sum()\n",
        "\n",
        "duplicates"
      ]
    },
    {
      "cell_type": "markdown",
      "metadata": {
        "id": "mx4pcDFr8qPC"
      },
      "source": [
        "Hasil Pengecekan data menunjukkan :\n",
        "  1. Nilai yang hilang: Kolom dengan nilai yang hilang antara 5 hingga 14 entri, misalnya kolom Age memiliki 14 entri kosong, Gender 9, dan seterusnya.\n",
        "  2. Nilai yang unik :\n",
        "    - Kolom Age memiliki 1394 nilai unik, yang menunjukkan bahwa ada banyak variasi dalam usia.\n",
        "    - Kolom Gender hanya memiliki 3 nilai unik (kemungkinan \"Female\", \"Male\", dan mungkin satu kategori lainnya).\n",
        "    - Kolom NObeyesdad (target variabel) memiliki 7 kategori unik (berkaitan dengan tingkat obesitas).\n",
        "  3. Data Duplikat : Terdapat 18 duplikat dalam dataset ini, yang dapat dihapus jika diperlukan.\n"
      ]
    },
    {
      "cell_type": "code",
      "source": [
        "# Salin dataframe agar data asli tidak berubah\n",
        "df_eda = df.copy()\n",
        "\n",
        "# Daftar kolom yang seharusnya numerik\n",
        "numeric_cols_to_convert = ['Age', 'Height', 'Weight', 'FCVC', 'NCP', 'CH2O', 'FAF', 'TUE']\n",
        "\n",
        "# Konversi kolom ke tipe numerik, error akan diubah menjadi NaN (Not a Number)\n",
        "for col in numeric_cols_to_convert:\n",
        "    df_eda[col] = pd.to_numeric(df_eda[col], errors='coerce')\n",
        "\n",
        "# Sekarang, tampilkan statistik deskriptif yang akurat untuk kolom numerik\n",
        "print(\"Statistik Deskriptif untuk Data Numerik:\")\n",
        "display(df_eda[numeric_cols_to_convert].describe())"
      ],
      "metadata": {
        "id": "9FwiRGFX3vI7",
        "colab": {
          "base_uri": "https://localhost:8080/",
          "height": 318
        },
        "outputId": "0dbbce68-d772-4385-93d0-90c164e385f6"
      },
      "execution_count": 8,
      "outputs": [
        {
          "output_type": "stream",
          "name": "stdout",
          "text": [
            "Statistik Deskriptif untuk Data Numerik:\n"
          ]
        },
        {
          "output_type": "display_data",
          "data": {
            "text/plain": [
              "               Age       Height       Weight         FCVC          NCP  \\\n",
              "count  2089.000000  2089.000000  2092.000000  2093.000000  2089.000000   \n",
              "mean     24.717928     1.706623    88.608184     2.443519     2.729418   \n",
              "std       8.391323     0.117700    36.154617     0.642754     0.981124   \n",
              "min      14.000000     1.450000    39.000000     1.000000     1.000000   \n",
              "25%      19.955257     1.630000    66.000000     2.000000     2.675411   \n",
              "50%      22.814657     1.701284    83.000000     2.397284     3.000000   \n",
              "75%      26.000000     1.770000   108.055736     3.000000     3.000000   \n",
              "max     106.441252     2.853986   441.131078     8.706795    12.299828   \n",
              "\n",
              "              CH2O          FAF          TUE  \n",
              "count  2096.000000  2092.000000  2096.000000  \n",
              "mean      2.030560     1.073435     0.680138  \n",
              "std       0.737945     1.149364     0.717160  \n",
              "min       1.000000     0.000000     0.000000  \n",
              "25%       1.569911     0.129009     0.000000  \n",
              "50%       2.000000     1.000000     0.625360  \n",
              "75%       2.482454     1.683612     1.000000  \n",
              "max       9.233294    12.270275     7.669504  "
            ],
            "text/html": [
              "\n",
              "  <div id=\"df-121aea85-fedc-469b-8f4a-3b7f4ec8dc26\" class=\"colab-df-container\">\n",
              "    <div>\n",
              "<style scoped>\n",
              "    .dataframe tbody tr th:only-of-type {\n",
              "        vertical-align: middle;\n",
              "    }\n",
              "\n",
              "    .dataframe tbody tr th {\n",
              "        vertical-align: top;\n",
              "    }\n",
              "\n",
              "    .dataframe thead th {\n",
              "        text-align: right;\n",
              "    }\n",
              "</style>\n",
              "<table border=\"1\" class=\"dataframe\">\n",
              "  <thead>\n",
              "    <tr style=\"text-align: right;\">\n",
              "      <th></th>\n",
              "      <th>Age</th>\n",
              "      <th>Height</th>\n",
              "      <th>Weight</th>\n",
              "      <th>FCVC</th>\n",
              "      <th>NCP</th>\n",
              "      <th>CH2O</th>\n",
              "      <th>FAF</th>\n",
              "      <th>TUE</th>\n",
              "    </tr>\n",
              "  </thead>\n",
              "  <tbody>\n",
              "    <tr>\n",
              "      <th>count</th>\n",
              "      <td>2089.000000</td>\n",
              "      <td>2089.000000</td>\n",
              "      <td>2092.000000</td>\n",
              "      <td>2093.000000</td>\n",
              "      <td>2089.000000</td>\n",
              "      <td>2096.000000</td>\n",
              "      <td>2092.000000</td>\n",
              "      <td>2096.000000</td>\n",
              "    </tr>\n",
              "    <tr>\n",
              "      <th>mean</th>\n",
              "      <td>24.717928</td>\n",
              "      <td>1.706623</td>\n",
              "      <td>88.608184</td>\n",
              "      <td>2.443519</td>\n",
              "      <td>2.729418</td>\n",
              "      <td>2.030560</td>\n",
              "      <td>1.073435</td>\n",
              "      <td>0.680138</td>\n",
              "    </tr>\n",
              "    <tr>\n",
              "      <th>std</th>\n",
              "      <td>8.391323</td>\n",
              "      <td>0.117700</td>\n",
              "      <td>36.154617</td>\n",
              "      <td>0.642754</td>\n",
              "      <td>0.981124</td>\n",
              "      <td>0.737945</td>\n",
              "      <td>1.149364</td>\n",
              "      <td>0.717160</td>\n",
              "    </tr>\n",
              "    <tr>\n",
              "      <th>min</th>\n",
              "      <td>14.000000</td>\n",
              "      <td>1.450000</td>\n",
              "      <td>39.000000</td>\n",
              "      <td>1.000000</td>\n",
              "      <td>1.000000</td>\n",
              "      <td>1.000000</td>\n",
              "      <td>0.000000</td>\n",
              "      <td>0.000000</td>\n",
              "    </tr>\n",
              "    <tr>\n",
              "      <th>25%</th>\n",
              "      <td>19.955257</td>\n",
              "      <td>1.630000</td>\n",
              "      <td>66.000000</td>\n",
              "      <td>2.000000</td>\n",
              "      <td>2.675411</td>\n",
              "      <td>1.569911</td>\n",
              "      <td>0.129009</td>\n",
              "      <td>0.000000</td>\n",
              "    </tr>\n",
              "    <tr>\n",
              "      <th>50%</th>\n",
              "      <td>22.814657</td>\n",
              "      <td>1.701284</td>\n",
              "      <td>83.000000</td>\n",
              "      <td>2.397284</td>\n",
              "      <td>3.000000</td>\n",
              "      <td>2.000000</td>\n",
              "      <td>1.000000</td>\n",
              "      <td>0.625360</td>\n",
              "    </tr>\n",
              "    <tr>\n",
              "      <th>75%</th>\n",
              "      <td>26.000000</td>\n",
              "      <td>1.770000</td>\n",
              "      <td>108.055736</td>\n",
              "      <td>3.000000</td>\n",
              "      <td>3.000000</td>\n",
              "      <td>2.482454</td>\n",
              "      <td>1.683612</td>\n",
              "      <td>1.000000</td>\n",
              "    </tr>\n",
              "    <tr>\n",
              "      <th>max</th>\n",
              "      <td>106.441252</td>\n",
              "      <td>2.853986</td>\n",
              "      <td>441.131078</td>\n",
              "      <td>8.706795</td>\n",
              "      <td>12.299828</td>\n",
              "      <td>9.233294</td>\n",
              "      <td>12.270275</td>\n",
              "      <td>7.669504</td>\n",
              "    </tr>\n",
              "  </tbody>\n",
              "</table>\n",
              "</div>\n",
              "    <div class=\"colab-df-buttons\">\n",
              "\n",
              "  <div class=\"colab-df-container\">\n",
              "    <button class=\"colab-df-convert\" onclick=\"convertToInteractive('df-121aea85-fedc-469b-8f4a-3b7f4ec8dc26')\"\n",
              "            title=\"Convert this dataframe to an interactive table.\"\n",
              "            style=\"display:none;\">\n",
              "\n",
              "  <svg xmlns=\"http://www.w3.org/2000/svg\" height=\"24px\" viewBox=\"0 -960 960 960\">\n",
              "    <path d=\"M120-120v-720h720v720H120Zm60-500h600v-160H180v160Zm220 220h160v-160H400v160Zm0 220h160v-160H400v160ZM180-400h160v-160H180v160Zm440 0h160v-160H620v160ZM180-180h160v-160H180v160Zm440 0h160v-160H620v160Z\"/>\n",
              "  </svg>\n",
              "    </button>\n",
              "\n",
              "  <style>\n",
              "    .colab-df-container {\n",
              "      display:flex;\n",
              "      gap: 12px;\n",
              "    }\n",
              "\n",
              "    .colab-df-convert {\n",
              "      background-color: #E8F0FE;\n",
              "      border: none;\n",
              "      border-radius: 50%;\n",
              "      cursor: pointer;\n",
              "      display: none;\n",
              "      fill: #1967D2;\n",
              "      height: 32px;\n",
              "      padding: 0 0 0 0;\n",
              "      width: 32px;\n",
              "    }\n",
              "\n",
              "    .colab-df-convert:hover {\n",
              "      background-color: #E2EBFA;\n",
              "      box-shadow: 0px 1px 2px rgba(60, 64, 67, 0.3), 0px 1px 3px 1px rgba(60, 64, 67, 0.15);\n",
              "      fill: #174EA6;\n",
              "    }\n",
              "\n",
              "    .colab-df-buttons div {\n",
              "      margin-bottom: 4px;\n",
              "    }\n",
              "\n",
              "    [theme=dark] .colab-df-convert {\n",
              "      background-color: #3B4455;\n",
              "      fill: #D2E3FC;\n",
              "    }\n",
              "\n",
              "    [theme=dark] .colab-df-convert:hover {\n",
              "      background-color: #434B5C;\n",
              "      box-shadow: 0px 1px 3px 1px rgba(0, 0, 0, 0.15);\n",
              "      filter: drop-shadow(0px 1px 2px rgba(0, 0, 0, 0.3));\n",
              "      fill: #FFFFFF;\n",
              "    }\n",
              "  </style>\n",
              "\n",
              "    <script>\n",
              "      const buttonEl =\n",
              "        document.querySelector('#df-121aea85-fedc-469b-8f4a-3b7f4ec8dc26 button.colab-df-convert');\n",
              "      buttonEl.style.display =\n",
              "        google.colab.kernel.accessAllowed ? 'block' : 'none';\n",
              "\n",
              "      async function convertToInteractive(key) {\n",
              "        const element = document.querySelector('#df-121aea85-fedc-469b-8f4a-3b7f4ec8dc26');\n",
              "        const dataTable =\n",
              "          await google.colab.kernel.invokeFunction('convertToInteractive',\n",
              "                                                    [key], {});\n",
              "        if (!dataTable) return;\n",
              "\n",
              "        const docLinkHtml = 'Like what you see? Visit the ' +\n",
              "          '<a target=\"_blank\" href=https://colab.research.google.com/notebooks/data_table.ipynb>data table notebook</a>'\n",
              "          + ' to learn more about interactive tables.';\n",
              "        element.innerHTML = '';\n",
              "        dataTable['output_type'] = 'display_data';\n",
              "        await google.colab.output.renderOutput(dataTable, element);\n",
              "        const docLink = document.createElement('div');\n",
              "        docLink.innerHTML = docLinkHtml;\n",
              "        element.appendChild(docLink);\n",
              "      }\n",
              "    </script>\n",
              "  </div>\n",
              "\n",
              "\n",
              "    <div id=\"df-82c63f35-c680-4d37-8f29-cf3ca3fdb068\">\n",
              "      <button class=\"colab-df-quickchart\" onclick=\"quickchart('df-82c63f35-c680-4d37-8f29-cf3ca3fdb068')\"\n",
              "                title=\"Suggest charts\"\n",
              "                style=\"display:none;\">\n",
              "\n",
              "<svg xmlns=\"http://www.w3.org/2000/svg\" height=\"24px\"viewBox=\"0 0 24 24\"\n",
              "     width=\"24px\">\n",
              "    <g>\n",
              "        <path d=\"M19 3H5c-1.1 0-2 .9-2 2v14c0 1.1.9 2 2 2h14c1.1 0 2-.9 2-2V5c0-1.1-.9-2-2-2zM9 17H7v-7h2v7zm4 0h-2V7h2v10zm4 0h-2v-4h2v4z\"/>\n",
              "    </g>\n",
              "</svg>\n",
              "      </button>\n",
              "\n",
              "<style>\n",
              "  .colab-df-quickchart {\n",
              "      --bg-color: #E8F0FE;\n",
              "      --fill-color: #1967D2;\n",
              "      --hover-bg-color: #E2EBFA;\n",
              "      --hover-fill-color: #174EA6;\n",
              "      --disabled-fill-color: #AAA;\n",
              "      --disabled-bg-color: #DDD;\n",
              "  }\n",
              "\n",
              "  [theme=dark] .colab-df-quickchart {\n",
              "      --bg-color: #3B4455;\n",
              "      --fill-color: #D2E3FC;\n",
              "      --hover-bg-color: #434B5C;\n",
              "      --hover-fill-color: #FFFFFF;\n",
              "      --disabled-bg-color: #3B4455;\n",
              "      --disabled-fill-color: #666;\n",
              "  }\n",
              "\n",
              "  .colab-df-quickchart {\n",
              "    background-color: var(--bg-color);\n",
              "    border: none;\n",
              "    border-radius: 50%;\n",
              "    cursor: pointer;\n",
              "    display: none;\n",
              "    fill: var(--fill-color);\n",
              "    height: 32px;\n",
              "    padding: 0;\n",
              "    width: 32px;\n",
              "  }\n",
              "\n",
              "  .colab-df-quickchart:hover {\n",
              "    background-color: var(--hover-bg-color);\n",
              "    box-shadow: 0 1px 2px rgba(60, 64, 67, 0.3), 0 1px 3px 1px rgba(60, 64, 67, 0.15);\n",
              "    fill: var(--button-hover-fill-color);\n",
              "  }\n",
              "\n",
              "  .colab-df-quickchart-complete:disabled,\n",
              "  .colab-df-quickchart-complete:disabled:hover {\n",
              "    background-color: var(--disabled-bg-color);\n",
              "    fill: var(--disabled-fill-color);\n",
              "    box-shadow: none;\n",
              "  }\n",
              "\n",
              "  .colab-df-spinner {\n",
              "    border: 2px solid var(--fill-color);\n",
              "    border-color: transparent;\n",
              "    border-bottom-color: var(--fill-color);\n",
              "    animation:\n",
              "      spin 1s steps(1) infinite;\n",
              "  }\n",
              "\n",
              "  @keyframes spin {\n",
              "    0% {\n",
              "      border-color: transparent;\n",
              "      border-bottom-color: var(--fill-color);\n",
              "      border-left-color: var(--fill-color);\n",
              "    }\n",
              "    20% {\n",
              "      border-color: transparent;\n",
              "      border-left-color: var(--fill-color);\n",
              "      border-top-color: var(--fill-color);\n",
              "    }\n",
              "    30% {\n",
              "      border-color: transparent;\n",
              "      border-left-color: var(--fill-color);\n",
              "      border-top-color: var(--fill-color);\n",
              "      border-right-color: var(--fill-color);\n",
              "    }\n",
              "    40% {\n",
              "      border-color: transparent;\n",
              "      border-right-color: var(--fill-color);\n",
              "      border-top-color: var(--fill-color);\n",
              "    }\n",
              "    60% {\n",
              "      border-color: transparent;\n",
              "      border-right-color: var(--fill-color);\n",
              "    }\n",
              "    80% {\n",
              "      border-color: transparent;\n",
              "      border-right-color: var(--fill-color);\n",
              "      border-bottom-color: var(--fill-color);\n",
              "    }\n",
              "    90% {\n",
              "      border-color: transparent;\n",
              "      border-bottom-color: var(--fill-color);\n",
              "    }\n",
              "  }\n",
              "</style>\n",
              "\n",
              "      <script>\n",
              "        async function quickchart(key) {\n",
              "          const quickchartButtonEl =\n",
              "            document.querySelector('#' + key + ' button');\n",
              "          quickchartButtonEl.disabled = true;  // To prevent multiple clicks.\n",
              "          quickchartButtonEl.classList.add('colab-df-spinner');\n",
              "          try {\n",
              "            const charts = await google.colab.kernel.invokeFunction(\n",
              "                'suggestCharts', [key], {});\n",
              "          } catch (error) {\n",
              "            console.error('Error during call to suggestCharts:', error);\n",
              "          }\n",
              "          quickchartButtonEl.classList.remove('colab-df-spinner');\n",
              "          quickchartButtonEl.classList.add('colab-df-quickchart-complete');\n",
              "        }\n",
              "        (() => {\n",
              "          let quickchartButtonEl =\n",
              "            document.querySelector('#df-82c63f35-c680-4d37-8f29-cf3ca3fdb068 button');\n",
              "          quickchartButtonEl.style.display =\n",
              "            google.colab.kernel.accessAllowed ? 'block' : 'none';\n",
              "        })();\n",
              "      </script>\n",
              "    </div>\n",
              "\n",
              "    </div>\n",
              "  </div>\n"
            ],
            "application/vnd.google.colaboratory.intrinsic+json": {
              "type": "dataframe",
              "summary": "{\n  \"name\": \"display(df_eda[numeric_cols_to_convert]\",\n  \"rows\": 8,\n  \"fields\": [\n    {\n      \"column\": \"Age\",\n      \"properties\": {\n        \"dtype\": \"number\",\n        \"std\": 728.0058469639807,\n        \"min\": 8.391323256749713,\n        \"max\": 2089.0,\n        \"num_unique_values\": 8,\n        \"samples\": [\n          24.717927638013155,\n          22.814657,\n          2089.0\n        ],\n        \"semantic_type\": \"\",\n        \"description\": \"\"\n      }\n    },\n    {\n      \"column\": \"Height\",\n      \"properties\": {\n        \"dtype\": \"number\",\n        \"std\": 738.0062248740107,\n        \"min\": 0.11769962506750835,\n        \"max\": 2089.0,\n        \"num_unique_values\": 8,\n        \"samples\": [\n          1.7066227944043348,\n          1.701284,\n          2089.0\n        ],\n        \"semantic_type\": \"\",\n        \"description\": \"\"\n      }\n    },\n    {\n      \"column\": \"Weight\",\n      \"properties\": {\n        \"dtype\": \"number\",\n        \"std\": 708.512924106096,\n        \"min\": 36.154617175256114,\n        \"max\": 2092.0,\n        \"num_unique_values\": 8,\n        \"samples\": [\n          88.60818398804334,\n          83.0,\n          2092.0\n        ],\n        \"semantic_type\": \"\",\n        \"description\": \"\"\n      }\n    },\n    {\n      \"column\": \"FCVC\",\n      \"properties\": {\n        \"dtype\": \"number\",\n        \"std\": 738.9717041146657,\n        \"min\": 0.6427540984983375,\n        \"max\": 2093.0,\n        \"num_unique_values\": 8,\n        \"samples\": [\n          2.44351885288093,\n          2.397284,\n          2093.0\n        ],\n        \"semantic_type\": \"\",\n        \"description\": \"\"\n      }\n    },\n    {\n      \"column\": \"NCP\",\n      \"properties\": {\n        \"dtype\": \"number\",\n        \"std\": 737.2845798465898,\n        \"min\": 0.9811235833433072,\n        \"max\": 2089.0,\n        \"num_unique_values\": 7,\n        \"samples\": [\n          2089.0,\n          2.7294182129376052,\n          3.0\n        ],\n        \"semantic_type\": \"\",\n        \"description\": \"\"\n      }\n    },\n    {\n      \"column\": \"CH2O\",\n      \"properties\": {\n        \"dtype\": \"number\",\n        \"std\": 740.0905141272257,\n        \"min\": 0.7379451279204421,\n        \"max\": 2096.0,\n        \"num_unique_values\": 8,\n        \"samples\": [\n          2.0305599439307267,\n          2.0,\n          2096.0\n        ],\n        \"semantic_type\": \"\",\n        \"description\": \"\"\n      }\n    },\n    {\n      \"column\": \"FAF\",\n      \"properties\": {\n        \"dtype\": \"number\",\n        \"std\": 738.7706554735892,\n        \"min\": 0.0,\n        \"max\": 2092.0,\n        \"num_unique_values\": 8,\n        \"samples\": [\n          1.0734350902988483,\n          1.0,\n          2092.0\n        ],\n        \"semantic_type\": \"\",\n        \"description\": \"\"\n      }\n    },\n    {\n      \"column\": \"TUE\",\n      \"properties\": {\n        \"dtype\": \"number\",\n        \"std\": 740.5121977972484,\n        \"min\": 0.0,\n        \"max\": 2096.0,\n        \"num_unique_values\": 7,\n        \"samples\": [\n          2096.0,\n          0.680138348170126,\n          1.0\n        ],\n        \"semantic_type\": \"\",\n        \"description\": \"\"\n      }\n    }\n  ]\n}"
            }
          },
          "metadata": {}
        }
      ]
    },
    {
      "cell_type": "code",
      "execution_count": 9,
      "metadata": {
        "id": "VJl1N0uG_3D3",
        "colab": {
          "base_uri": "https://localhost:8080/",
          "height": 976
        },
        "outputId": "b5e76c09-6b40-4236-9926-ef41b180333b"
      },
      "outputs": [
        {
          "output_type": "display_data",
          "data": {
            "text/plain": [
              "<Figure size 1000x600 with 1 Axes>"
            ],
            "image/png": "[encoded data removed]"
          },
          "metadata": {}
        },
        {
          "output_type": "execute_result",
          "data": {
            "text/plain": [
              "NObeyesdad\n",
              "Obesity_Type_I         351\n",
              "Obesity_Type_III       324\n",
              "Obesity_Type_II        297\n",
              "Overweight_Level_I     290\n",
              "Overweight_Level_II    290\n",
              "Normal_Weight          287\n",
              "Insufficient_Weight    272\n",
              "Name: count, dtype: int64"
            ],
            "text/html": [
              "<div>\n",
              "<style scoped>\n",
              "    .dataframe tbody tr th:only-of-type {\n",
              "        vertical-align: middle;\n",
              "    }\n",
              "\n",
              "    .dataframe tbody tr th {\n",
              "        vertical-align: top;\n",
              "    }\n",
              "\n",
              "    .dataframe thead th {\n",
              "        text-align: right;\n",
              "    }\n",
              "</style>\n",
              "<table border=\"1\" class=\"dataframe\">\n",
              "  <thead>\n",
              "    <tr style=\"text-align: right;\">\n",
              "      <th></th>\n",
              "      <th>count</th>\n",
              "    </tr>\n",
              "    <tr>\n",
              "      <th>NObeyesdad</th>\n",
              "      <th></th>\n",
              "    </tr>\n",
              "  </thead>\n",
              "  <tbody>\n",
              "    <tr>\n",
              "      <th>Obesity_Type_I</th>\n",
              "      <td>351</td>\n",
              "    </tr>\n",
              "    <tr>\n",
              "      <th>Obesity_Type_III</th>\n",
              "      <td>324</td>\n",
              "    </tr>\n",
              "    <tr>\n",
              "      <th>Obesity_Type_II</th>\n",
              "      <td>297</td>\n",
              "    </tr>\n",
              "    <tr>\n",
              "      <th>Overweight_Level_I</th>\n",
              "      <td>290</td>\n",
              "    </tr>\n",
              "    <tr>\n",
              "      <th>Overweight_Level_II</th>\n",
              "      <td>290</td>\n",
              "    </tr>\n",
              "    <tr>\n",
              "      <th>Normal_Weight</th>\n",
              "      <td>287</td>\n",
              "    </tr>\n",
              "    <tr>\n",
              "      <th>Insufficient_Weight</th>\n",
              "      <td>272</td>\n",
              "    </tr>\n",
              "  </tbody>\n",
              "</table>\n",
              "</div><br><label><b>dtype:</b> int64</label>"
            ]
          },
          "metadata": {},
          "execution_count": 9
        }
      ],
      "source": [
        "# Checking the balance of the target variable 'NObeyesdad'\n",
        "target_distribution = df['NObeyesdad'].value_counts()\n",
        "\n",
        "# Plotting the distribution of the target variable\n",
        "plt.figure(figsize=(10, 6))\n",
        "sns.countplot(x='NObeyesdad', data=df, order=target_distribution.index)\n",
        "plt.title('Distribution of Obesity Levels (NObeyesdad)')\n",
        "plt.xlabel('Obesity Level')\n",
        "plt.ylabel('Count')\n",
        "plt.xticks(rotation=45)\n",
        "plt.show()\n",
        "\n",
        "target_distribution"
      ]
    },
    {
      "cell_type": "markdown",
      "metadata": {
        "id": "f_aaGL4CABVb"
      },
      "source": [
        "Dari hasil ini, kita dapat melihat bahwa dataset cukup seimbang, meskipun ada sedikit variasi jumlah antara kategori (misalnya, kategori Obesity_Type_I memiliki jumlah terbanyak, sementara Insufficient_Weight memiliki jumlah terendah). Namun, distribusi ini tidak terlalu ekstrem, sehingga pemodelan masih dapat dilakukan tanpa perlu penyesuaian berat kelas (class weighting) yang besar."
      ]
    },
    {
      "cell_type": "code",
      "execution_count": 10,
      "metadata": {
        "id": "UKgmhhZG-pr-",
        "colab": {
          "base_uri": "https://localhost:8080/",
          "height": 729
        },
        "outputId": "776a819f-e902-43aa-aa95-bac2f36e62a3"
      },
      "outputs": [
        {
          "output_type": "display_data",
          "data": {
            "text/plain": [
              "<Figure size 1200x800 with 1 Axes>"
            ],
            "image/png": "[encoded data removed]"
          },
          "metadata": {}
        }
      ],
      "source": [
        "# Convert columns to numeric where applicable for visualization\n",
        "df['Age'] = pd.to_numeric(df['Age'], errors='coerce')\n",
        "df['Height'] = pd.to_numeric(df['Height'], errors='coerce')\n",
        "df['Weight'] = pd.to_numeric(df['Weight'], errors='coerce')\n",
        "df['NCP'] = pd.to_numeric(df['NCP'], errors='coerce')\n",
        "df['CH2O'] = pd.to_numeric(df['CH2O'], errors='coerce')\n",
        "df['FAF'] = pd.to_numeric(df['FAF'], errors='coerce')\n",
        "df['TUE'] = pd.to_numeric(df['TUE'], errors='coerce')\n",
        "\n",
        "# Plot boxplot to detect outliers\n",
        "plt.figure(figsize=(12, 8))\n",
        "sns.boxplot(data=df[['Age', 'Height', 'Weight', 'NCP', 'CH2O', 'FAF', 'TUE']])\n",
        "plt.title(\"Boxplot to Detect Outliers\")\n",
        "plt.xticks(rotation=45)\n",
        "plt.show()"
      ]
    },
    {
      "cell_type": "markdown",
      "metadata": {
        "id": "6X8srhI4-1FW"
      },
      "source": [
        "Berikut adalah boxplot yang digunakan untuk mendeteksi outlier pada beberapa fitur numerik dalam dataset (seperti Age, Height, Weight, NCP, CH2O, FAF, dan TUE). Anda bisa melihat bahwa beberapa kolom menunjukkan tanda-tanda outlier, misalnya pada kolom Age, Weight, dan Height. Ini bisa menjadi indikasi adanya nilai yang jauh lebih besar atau lebih kecil dari rentang normal."
      ]
    },
    {
      "cell_type": "code",
      "source": [
        "# Set up a figure for multiple plots\n",
        "plt.style.use('seaborn-v0_8-whitegrid')\n",
        "fig, axes = plt.subplots(2, 2, figsize=(18, 14))\n",
        "fig.suptitle('Analisis Visualisasi Data Tambahan', fontsize=20)\n",
        "\n",
        "# 1. Histogram untuk distribusi Umur (Age)\n",
        "sns.histplot(data=df_eda, x='Age', kde=True, ax=axes[0, 0])\n",
        "axes[0, 0].set_title('Distribusi Umur Responden')\n",
        "\n",
        "# 2. Bar chart untuk jenis transportasi (MTRANS)\n",
        "sns.countplot(data=df_eda, y='MTRANS', ax=axes[0, 1], order=df_eda['MTRANS'].value_counts().index)\n",
        "axes[0, 1].set_title('Distribusi Jenis Transportasi yang Digunakan')\n",
        "\n",
        "# 3. Boxplot untuk melihat hubungan Berat Badan dengan Tingkat Obesitas\n",
        "sns.boxplot(data=df_eda, x='Weight', y='NObeyesdad', ax=axes[1, 0])\n",
        "axes[1, 0].set_title('Hubungan Berat Badan dengan Tingkat Obesitas')\n",
        "\n",
        "# 4. Boxplot untuk melihat hubungan Riwayat Keluarga dengan Berat Badan\n",
        "sns.boxplot(data=df_eda, x='Weight', y='family_history_with_overweight', ax=axes[1, 1])\n",
        "axes[1, 1].set_title('Hubungan Berat Badan dengan Riwayat Keluarga')\n",
        "\n",
        "plt.tight_layout(rect=[0, 0.03, 1, 0.95])\n",
        "plt.show()"
      ],
      "metadata": {
        "id": "Mb1f0g8B4NHA",
        "colab": {
          "base_uri": "https://localhost:8080/",
          "height": 1000
        },
        "outputId": "ec5cd6c1-478f-47ab-c9ea-c5160b86b19d"
      },
      "execution_count": 11,
      "outputs": [
        {
          "output_type": "display_data",
          "data": {
            "text/plain": [
              "<Figure size 1800x1400 with 4 Axes>"
            ],
            "image/png": "[encoded data removed]"
          },
          "metadata": {}
        }
      ]
    },
    {
      "cell_type": "markdown",
      "metadata": {
        "id": "l2zr7E8-ADrk"
      },
      "source": [
        "###Kesimpulan\n"
      ]
    },
    {
      "cell_type": "markdown",
      "metadata": {
        "id": "26DXSCmUAHil"
      },
      "source": [
        "Pada tahap Exploratory Data Analysis (EDA) ini, kami telah melakukan serangkaian langkah untuk memeriksa dataset yang berisi informasi mengenai kebiasaan makan dan kondisi fisik individu dari tiga negara (Meksiko, Peru, dan Kolombia), yang digunakan untuk memprediksi tingkat obesitas mereka. Berikut adalah kesimpulan rinci berdasarkan langkah-langkah yang telah dilakukan:\n",
        "\n",
        "  1.  Informasi Umum Dataset:\n",
        "    - Dataset terdiri dari 2111 entri dan 17 kolom, dengan berbagai atribut mengenai kebiasaan makan dan kondisi fisik individu.\n",
        "    - Tipe data sebagian besar objek (string), perlu konversi untuk beberapa kolom numerik seperti Age, Height, dan Weight.\n",
        "  \n",
        "  2. Outlier:\n",
        "    - Outlier ditemukan pada kolom Age, Weight, dan Height yang memerlukan penanganan untuk memastikan data konsisten dan tidak distorsi.\n",
        "\n",
        "  3. Pemeriksaan Nilai Hilang:\n",
        "    - Kolom seperti Age memiliki 14 nilai kosong, dan kolom lainnya memiliki nilai kosong antara 5 hingga 14 entri. Penanganan nilai kosong diperlukan.\n",
        "\n",
        "  4. Distribusi Nilai Unik:\n",
        "    - Kolom target NObeyesdad memiliki 7 kategori tingkat obesitas dengan distribusi yang cukup seimbang (rata-rata 290-350 entri per kategori).\n",
        "    - Terdapat 18 data duplikat yang harus dihapus.\n",
        "\n",
        "  5. Kesimpulan Umum:\n",
        "    \n",
        "    Dataset ini sangat berpotensi untuk digunakan dalam analisis prediksi tingkat obesitas berdasarkan kebiasaan makan dan kondisi fisik individu. Yang dimana memiliki berbagai tipe data yang membutuhkan pra-pemrosesan, termasuk konversi tipe data, penanganan nilai kosong, dan penghapusan outlier untuk memastikan data yang bersih dan konsisten. Kolom target NObeyesdad memiliki 7 kategori obesitas, yang memungkinkan analisis klasifikasi multikelas. Data yang seimbang memungkinkan pemodelan klasifikasi yang lebih efektif, meskipun ada sedikit perbedaan jumlah antar kategori yang perlu dipertimbangkan."
      ]
    },
    {
      "cell_type": "markdown",
      "metadata": {
        "id": "ItHZztmaeMam"
      },
      "source": [
        "##Pre-Processing\n"
      ]
    },
    {
      "cell_type": "code",
      "source": [
        "#Menghapus Data duplikat\n",
        "df_clean = df.drop_duplicates().copy()"
      ],
      "metadata": {
        "id": "ShFt8No_yusW"
      },
      "execution_count": 12,
      "outputs": []
    },
    {
      "cell_type": "code",
      "execution_count": 13,
      "metadata": {
        "id": "UYXJmatNee1e"
      },
      "outputs": [],
      "source": [
        "#Mengkonversi menjadi nilai numerik\n",
        "numeric_cols = ['Age', 'Height', 'Weight', 'FCVC', 'NCP', 'CH2O', 'FAF', 'TUE']\n",
        "for col in numeric_cols:\n",
        "    df_clean[col] = pd.to_numeric(df_clean[col], errors='coerce')\n"
      ]
    },
    {
      "cell_type": "code",
      "execution_count": 14,
      "metadata": {
        "id": "a2DRgmBwek5G",
        "colab": {
          "base_uri": "https://localhost:8080/"
        },
        "outputId": "54ae8579-72c1-469f-c51e-6c14163e54f9"
      },
      "outputs": [
        {
          "output_type": "stream",
          "name": "stderr",
          "text": [
            "<ipython-input-14-3185875409>:4: FutureWarning: A value is trying to be set on a copy of a DataFrame or Series through chained assignment using an inplace method.\n",
            "The behavior will change in pandas 3.0. This inplace method will never work because the intermediate object on which we are setting values always behaves as a copy.\n",
            "\n",
            "For example, when doing 'df[col].method(value, inplace=True)', try using 'df.method({col: value}, inplace=True)' or df[col] = df[col].method(value) instead, to perform the operation inplace on the original object.\n",
            "\n",
            "\n",
            "  df_clean[col].fillna(median_val, inplace=True)\n"
          ]
        }
      ],
      "source": [
        "# Penanganan Missing Values dengan Imputasi Median\n",
        "for col in numeric_cols:\n",
        "    median_val = df_clean[col].median()\n",
        "    df_clean[col].fillna(median_val, inplace=True)\n"
      ]
    },
    {
      "cell_type": "code",
      "source": [
        "# Untuk kolom kategorikal menggunakan modus\n",
        "categorical_cols = df_clean.select_dtypes(include='object').columns\n",
        "for col in categorical_cols:\n",
        "    mode_val = df_clean[col].mode()[0]\n",
        "    df_clean[col].fillna(mode_val, inplace=True)"
      ],
      "metadata": {
        "id": "UyeH2DIQ6AOS",
        "colab": {
          "base_uri": "https://localhost:8080/"
        },
        "outputId": "778c6fd7-f04f-4c59-ff36-1ba965f07ece"
      },
      "execution_count": 15,
      "outputs": [
        {
          "output_type": "stream",
          "name": "stderr",
          "text": [
            "<ipython-input-15-359759274>:5: FutureWarning: A value is trying to be set on a copy of a DataFrame or Series through chained assignment using an inplace method.\n",
            "The behavior will change in pandas 3.0. This inplace method will never work because the intermediate object on which we are setting values always behaves as a copy.\n",
            "\n",
            "For example, when doing 'df[col].method(value, inplace=True)', try using 'df.method({col: value}, inplace=True)' or df[col] = df[col].method(value) instead, to perform the operation inplace on the original object.\n",
            "\n",
            "\n",
            "  df_clean[col].fillna(mode_val, inplace=True)\n"
          ]
        }
      ]
    },
    {
      "cell_type": "code",
      "source": [
        "# Hapus SEMUA baris yang memiliki nilai NaN\n",
        "df_clean.dropna(inplace=True)"
      ],
      "metadata": {
        "id": "eG6pc9V5zZ82"
      },
      "execution_count": 16,
      "outputs": []
    },
    {
      "cell_type": "markdown",
      "metadata": {
        "id": "tEfAd1JWf1QY"
      },
      "source": [
        "###Menangani Outlier"
      ]
    },
    {
      "cell_type": "code",
      "execution_count": 17,
      "metadata": {
        "id": "WYfu3B8xgBCu",
        "colab": {
          "base_uri": "https://localhost:8080/",
          "height": 607
        },
        "outputId": "48c84123-42ea-44a5-c0e0-0452d5347f58"
      },
      "outputs": [
        {
          "output_type": "display_data",
          "data": {
            "text/plain": [
              "<Figure size 1200x600 with 1 Axes>"
            ],
            "image/png": "[encoded data removed]"
          },
          "metadata": {}
        }
      ],
      "source": [
        "# Menggunakan df_cleaned untuk mendeteksi outlier\n",
        "# Pertama, konversi kolom numerik ke numerik jika belum\n",
        "numeric_cols = ['Age', 'Height', 'Weight', 'FCVC', 'NCP', 'CH2O', 'FAF', 'TUE']\n",
        "for col in numeric_cols:\n",
        "    df_clean[col] = pd.to_numeric(df_clean[col], errors='coerce')\n",
        "\n",
        "# Buat boxplot untuk visualisasi outlier\n",
        "plt.figure(figsize=(12, 6))\n",
        "sns.boxplot(data=df_clean[numeric_cols])\n",
        "plt.xticks(rotation=45)\n",
        "plt.title(\"Boxplot Deteksi Outlier\")\n",
        "plt.tight_layout()\n",
        "plt.show()"
      ]
    },
    {
      "cell_type": "markdown",
      "metadata": {
        "id": "uJ7KEtzkjOdn"
      },
      "source": [
        "Dari boxplot di atas, kita dapat mengamati adanya outlier pada beberapa kolom numerik, khususnya:\n",
        "\n",
        "- Age: Terlihat beberapa nilai usia sangat tinggi (di atas 60 tahun), meskipun rentang usia umumnya di bawah 40 tahun.\n",
        "\n",
        "- Weight: Terdapat outlier ekstrem dengan berat badan lebih dari 170 kg, bahkan ada yang lebih dari 400 kg (tidak realistis).\n",
        "\n",
        "- FCVC, NCP, CH2O, FAF, TUE: Meskipun memiliki outlier, sebagian besar nilai masih dalam batas yang wajar."
      ]
    },
    {
      "cell_type": "code",
      "execution_count": 18,
      "metadata": {
        "id": "DsYDe_jff4Qu",
        "colab": {
          "base_uri": "https://localhost:8080/",
          "height": 624
        },
        "outputId": "66601e25-2506-4863-92b7-5da9e57c80c1"
      },
      "outputs": [
        {
          "output_type": "stream",
          "name": "stdout",
          "text": [
            "Jumlah data setelah cleaning: 1888 baris\n"
          ]
        },
        {
          "output_type": "display_data",
          "data": {
            "text/plain": [
              "<Figure size 1200x600 with 1 Axes>"
            ],
            "image/png": "[encoded data removed]"
          },
          "metadata": {}
        }
      ],
      "source": [
        "# Fungsi untuk menghapus outlier berdasarkan IQR\n",
        "def remove_outliers_iqr(df, columns):\n",
        "    df_out = df.copy()\n",
        "    for col in columns:\n",
        "        Q1 = df_out[col].quantile(0.25)\n",
        "        Q3 = df_out[col].quantile(0.75)\n",
        "        IQR = Q3 - Q1\n",
        "        lower_bound = Q1 - 1.5 * IQR\n",
        "        upper_bound = Q3 + 1.5 * IQR\n",
        "        df_out = df_out[(df_out[col] >= lower_bound) & (df_out[col] <= upper_bound)]\n",
        "    return df_out\n",
        "\n",
        "# Terapkan fungsi untuk menghapus outlier pada kolom numerik\n",
        "df_no_outliers = remove_outliers_iqr(df_clean, ['Age', 'Height', 'Weight'])\n",
        "\n",
        "# Tampilkan jumlah data sebelum dan sesudah penghapusan outlier\n",
        "print(f\"Jumlah data setelah cleaning: {df_no_outliers.shape[0]} baris\")\n",
        "\n",
        "# Visualisasi ulang boxplot setelah outlier dihapus\n",
        "plt.figure(figsize=(12, 6))\n",
        "sns.boxplot(data=df_no_outliers[numeric_cols])\n",
        "plt.xticks(rotation=45)\n",
        "plt.title(\"Boxplot Setelah Penghapusan Outlier (IQR)\")\n",
        "plt.tight_layout()\n",
        "plt.show()"
      ]
    },
    {
      "cell_type": "markdown",
      "metadata": {
        "id": "5ORMD6yajbnt"
      },
      "source": [
        "Berikut adalah boxplot setelah penghapusan outlier menggunakan metode IQR:\n",
        "\n",
        "- Distribusi data sekarang tampak lebih bersih dan realistis\n",
        "- Tidak ada lagi nilai ekstrem yang mengganggu skala visualisasi\n",
        "- Ini membantu meningkatkan kualitas data sebelum masuk ke tahap pemodelan"
      ]
    },
    {
      "cell_type": "code",
      "source": [
        "print(f\"Bentuk data setelah semua pembersihan: {df_clean.shape}\")"
      ],
      "metadata": {
        "colab": {
          "base_uri": "https://localhost:8080/"
        },
        "id": "LoKtZuwsz4xV",
        "outputId": "02bfcfbf-06a1-4175-a7ec-48aa46bb2a04"
      },
      "execution_count": 19,
      "outputs": [
        {
          "output_type": "stream",
          "name": "stdout",
          "text": [
            "Bentuk data setelah semua pembersihan: (2093, 17)\n"
          ]
        }
      ]
    },
    {
      "cell_type": "markdown",
      "source": [
        "##Encoding"
      ],
      "metadata": {
        "id": "u5aaJpMt0KOw"
      }
    },
    {
      "cell_type": "markdown",
      "metadata": {
        "id": "CSjFuJVFiGiD"
      },
      "source": [
        "###Mengubah data kategorikal menjadi numerikal"
      ]
    },
    {
      "cell_type": "code",
      "execution_count": 20,
      "metadata": {
        "id": "QeY1CFVNh_Ao",
        "colab": {
          "base_uri": "https://localhost:8080/"
        },
        "outputId": "710d9ee5-4391-432f-cc73-b4820d3aa691"
      },
      "outputs": [
        {
          "output_type": "execute_result",
          "data": {
            "text/plain": [
              "['Gender',\n",
              " 'CALC',\n",
              " 'FAVC',\n",
              " 'SCC',\n",
              " 'SMOKE',\n",
              " 'family_history_with_overweight',\n",
              " 'CAEC',\n",
              " 'MTRANS',\n",
              " 'NObeyesdad']"
            ]
          },
          "metadata": {},
          "execution_count": 20
        }
      ],
      "source": [
        "# Mengecek kolom kategorikal\n",
        "categorical_cols = df_no_outliers.select_dtypes(include='object').columns.tolist()\n",
        "categorical_cols"
      ]
    },
    {
      "cell_type": "code",
      "execution_count": 21,
      "metadata": {
        "id": "ZI8FDgJ8iTar",
        "colab": {
          "base_uri": "https://localhost:8080/",
          "height": 533
        },
        "outputId": "5731cd80-5395-4b81-9855-9b47ed36b108"
      },
      "outputs": [
        {
          "output_type": "stream",
          "name": "stdout",
          "text": [
            "Kolom kategorikal yang terdeteksi: ['Gender', 'CALC', 'FAVC', 'SCC', 'SMOKE', 'family_history_with_overweight', 'CAEC', 'MTRANS']\n",
            "Bentuk X sebelum encoding: (1888, 16)\n",
            "Bentuk X setelah encoding: (1888, 31)\n",
            "\n",
            "DataFrame sudah sepenuhnya numerik. Menjalankan kembali analisis korelasi:\n",
            "10 Fitur dengan Korelasi Tertinggi terhadap Target:\n"
          ]
        },
        {
          "output_type": "display_data",
          "data": {
            "text/plain": [
              "NObeyesdad                            1.000000\n",
              "Weight                                0.417604\n",
              "CAEC_Frequently                       0.373225\n",
              "family_history_with_overweight_no     0.359678\n",
              "family_history_with_overweight_yes    0.358658\n",
              "CAEC_Sometimes                        0.357900\n",
              "Age                                   0.289963\n",
              "CALC_no                               0.169558\n",
              "CALC_Sometimes                        0.141203\n",
              "FAF                                   0.106737\n",
              "CAEC_Always                           0.100518\n",
              "Name: NObeyesdad, dtype: float64"
            ],
            "text/html": [
              "<div>\n",
              "<style scoped>\n",
              "    .dataframe tbody tr th:only-of-type {\n",
              "        vertical-align: middle;\n",
              "    }\n",
              "\n",
              "    .dataframe tbody tr th {\n",
              "        vertical-align: top;\n",
              "    }\n",
              "\n",
              "    .dataframe thead th {\n",
              "        text-align: right;\n",
              "    }\n",
              "</style>\n",
              "<table border=\"1\" class=\"dataframe\">\n",
              "  <thead>\n",
              "    <tr style=\"text-align: right;\">\n",
              "      <th></th>\n",
              "      <th>NObeyesdad</th>\n",
              "    </tr>\n",
              "  </thead>\n",
              "  <tbody>\n",
              "    <tr>\n",
              "      <th>NObeyesdad</th>\n",
              "      <td>1.000000</td>\n",
              "    </tr>\n",
              "    <tr>\n",
              "      <th>Weight</th>\n",
              "      <td>0.417604</td>\n",
              "    </tr>\n",
              "    <tr>\n",
              "      <th>CAEC_Frequently</th>\n",
              "      <td>0.373225</td>\n",
              "    </tr>\n",
              "    <tr>\n",
              "      <th>family_history_with_overweight_no</th>\n",
              "      <td>0.359678</td>\n",
              "    </tr>\n",
              "    <tr>\n",
              "      <th>family_history_with_overweight_yes</th>\n",
              "      <td>0.358658</td>\n",
              "    </tr>\n",
              "    <tr>\n",
              "      <th>CAEC_Sometimes</th>\n",
              "      <td>0.357900</td>\n",
              "    </tr>\n",
              "    <tr>\n",
              "      <th>Age</th>\n",
              "      <td>0.289963</td>\n",
              "    </tr>\n",
              "    <tr>\n",
              "      <th>CALC_no</th>\n",
              "      <td>0.169558</td>\n",
              "    </tr>\n",
              "    <tr>\n",
              "      <th>CALC_Sometimes</th>\n",
              "      <td>0.141203</td>\n",
              "    </tr>\n",
              "    <tr>\n",
              "      <th>FAF</th>\n",
              "      <td>0.106737</td>\n",
              "    </tr>\n",
              "    <tr>\n",
              "      <th>CAEC_Always</th>\n",
              "      <td>0.100518</td>\n",
              "    </tr>\n",
              "  </tbody>\n",
              "</table>\n",
              "</div><br><label><b>dtype:</b> float64</label>"
            ]
          },
          "metadata": {}
        }
      ],
      "source": [
        "# Salin dataset agar aman\n",
        "df_processed = df_no_outliers.copy()\n",
        "\n",
        "# Label encoding untuk target variabel\n",
        "le = LabelEncoder()\n",
        "df_processed['NObeyesdad'] = le.fit_transform(df_processed['NObeyesdad'])\n",
        "\n",
        "# Identifikasi SEMUA kolom kategorikal yang tersisa\n",
        "categorical_cols = df_processed.select_dtypes(include=['object']).columns\n",
        "print(f\"Kolom kategorikal yang terdeteksi: {list(categorical_cols)}\")\n",
        "\n",
        "# Pisahkan fitur dan target SEBELUM one-hot encoding agar lebih mudah\n",
        "X = df_processed.drop('NObeyesdad', axis=1)\n",
        "y = df_processed['NObeyesdad']\n",
        "print(f\"Bentuk X sebelum encoding: {X.shape}\")\n",
        "\n",
        "# One-Hot Encoding untuk fitur kategorikal\n",
        "categorical_cols = X.select_dtypes(include='object').columns\n",
        "X_encoded = pd.get_dummies(X, columns=X.select_dtypes(include='object').columns, drop_first=True)\n",
        "print(f\"Bentuk X setelah encoding: {X_encoded.shape}\")\n",
        "\n",
        "# Tampilkan bentuk akhir dataset\n",
        "df_for_corr = pd.concat([X_encoded, y], axis=1)\n",
        "print(\"\\nDataFrame sudah sepenuhnya numerik. Menjalankan kembali analisis korelasi:\")\n",
        "correlation = df_for_corr.corr()['NObeyesdad'].abs().sort_values(ascending=False)\n",
        "\n",
        "# Tampilkan 10 fitur teratas yang paling berkorelasi dengan target\n",
        "print(\"10 Fitur dengan Korelasi Tertinggi terhadap Target:\")\n",
        "display(correlation.head(11))"
      ]
    },
    {
      "cell_type": "markdown",
      "metadata": {
        "id": "rdmfSJcyjmXq"
      },
      "source": [
        "Hasil Encoding:\n",
        "\n",
        "Setelah menerapkan Label Encoding pada target (NObeyesdad) dan One-Hot Encoding pada fitur kategorikal lainnya,\n",
        "\n",
        "Dataset kini memiliki 1230 baris dan 39 kolom."
      ]
    },
    {
      "cell_type": "markdown",
      "source": [
        "### Data Spliiting"
      ],
      "metadata": {
        "id": "04vcea4t7_1z"
      }
    },
    {
      "cell_type": "code",
      "source": [
        "# Pembagian Data (Train-Test Split)\n",
        "X_train, X_test, y_train, y_test = train_test_split(X_encoded, y, test_size=0.2, random_state=42, stratify=y)\n",
        "print(f\"\\nBentuk X_test: {X_test.shape}, Bentuk y_test: {y_test.shape}\")"
      ],
      "metadata": {
        "id": "RyuTQBUr8DVX",
        "colab": {
          "base_uri": "https://localhost:8080/"
        },
        "outputId": "3a5c028c-52a7-48e5-cbb5-53dd25448a6f"
      },
      "execution_count": 22,
      "outputs": [
        {
          "output_type": "stream",
          "name": "stdout",
          "text": [
            "\n",
            "Bentuk X_test: (378, 31), Bentuk y_test: (378,)\n"
          ]
        }
      ]
    },
    {
      "cell_type": "markdown",
      "source": [
        "### Scalling"
      ],
      "metadata": {
        "id": "0mp0Lgpc8tOb"
      }
    },
    {
      "cell_type": "code",
      "source": [
        "scaler = StandardScaler()\n",
        "X_train_scaled = scaler.fit_transform(X_train)\n",
        "X_test_scaled = scaler.transform(X_test)"
      ],
      "metadata": {
        "id": "4YKupdZh8sjO"
      },
      "execution_count": 23,
      "outputs": []
    },
    {
      "cell_type": "markdown",
      "source": [
        "### SMOTE"
      ],
      "metadata": {
        "id": "fyebdDLJuK-p"
      }
    },
    {
      "cell_type": "code",
      "source": [
        "smote = SMOTE(random_state=42)\n",
        "X_train_resampled, y_train_resampled = smote.fit_resample(X_train_scaled, y_train)"
      ],
      "metadata": {
        "id": "tgAYrLeXuOdN"
      },
      "execution_count": 24,
      "outputs": []
    },
    {
      "cell_type": "markdown",
      "metadata": {
        "id": "kmf6yfweihFW"
      },
      "source": [
        "###Feature Selection"
      ]
    },
    {
      "cell_type": "code",
      "execution_count": 25,
      "metadata": {
        "id": "4O-4HzqBijud",
        "colab": {
          "base_uri": "https://localhost:8080/",
          "height": 429
        },
        "outputId": "30e37829-72e1-403a-ba7d-1adc99dff432"
      },
      "outputs": [
        {
          "output_type": "execute_result",
          "data": {
            "text/plain": [
              "NObeyesdad                            1.000000\n",
              "Weight                                0.417604\n",
              "CAEC_Frequently                       0.373225\n",
              "family_history_with_overweight_no     0.359678\n",
              "family_history_with_overweight_yes    0.358658\n",
              "CAEC_Sometimes                        0.357900\n",
              "Age                                   0.289963\n",
              "CALC_no                               0.169558\n",
              "CALC_Sometimes                        0.141203\n",
              "FAF                                   0.106737\n",
              "CAEC_Always                           0.100518\n",
              "Name: NObeyesdad, dtype: float64"
            ],
            "text/html": [
              "<div>\n",
              "<style scoped>\n",
              "    .dataframe tbody tr th:only-of-type {\n",
              "        vertical-align: middle;\n",
              "    }\n",
              "\n",
              "    .dataframe tbody tr th {\n",
              "        vertical-align: top;\n",
              "    }\n",
              "\n",
              "    .dataframe thead th {\n",
              "        text-align: right;\n",
              "    }\n",
              "</style>\n",
              "<table border=\"1\" class=\"dataframe\">\n",
              "  <thead>\n",
              "    <tr style=\"text-align: right;\">\n",
              "      <th></th>\n",
              "      <th>NObeyesdad</th>\n",
              "    </tr>\n",
              "  </thead>\n",
              "  <tbody>\n",
              "    <tr>\n",
              "      <th>NObeyesdad</th>\n",
              "      <td>1.000000</td>\n",
              "    </tr>\n",
              "    <tr>\n",
              "      <th>Weight</th>\n",
              "      <td>0.417604</td>\n",
              "    </tr>\n",
              "    <tr>\n",
              "      <th>CAEC_Frequently</th>\n",
              "      <td>0.373225</td>\n",
              "    </tr>\n",
              "    <tr>\n",
              "      <th>family_history_with_overweight_no</th>\n",
              "      <td>0.359678</td>\n",
              "    </tr>\n",
              "    <tr>\n",
              "      <th>family_history_with_overweight_yes</th>\n",
              "      <td>0.358658</td>\n",
              "    </tr>\n",
              "    <tr>\n",
              "      <th>CAEC_Sometimes</th>\n",
              "      <td>0.357900</td>\n",
              "    </tr>\n",
              "    <tr>\n",
              "      <th>Age</th>\n",
              "      <td>0.289963</td>\n",
              "    </tr>\n",
              "    <tr>\n",
              "      <th>CALC_no</th>\n",
              "      <td>0.169558</td>\n",
              "    </tr>\n",
              "    <tr>\n",
              "      <th>CALC_Sometimes</th>\n",
              "      <td>0.141203</td>\n",
              "    </tr>\n",
              "    <tr>\n",
              "      <th>FAF</th>\n",
              "      <td>0.106737</td>\n",
              "    </tr>\n",
              "    <tr>\n",
              "      <th>CAEC_Always</th>\n",
              "      <td>0.100518</td>\n",
              "    </tr>\n",
              "  </tbody>\n",
              "</table>\n",
              "</div><br><label><b>dtype:</b> float64</label>"
            ]
          },
          "metadata": {},
          "execution_count": 25
        }
      ],
      "source": [
        "# Melihat korelasi fitur dengan target\n",
        "correlation = df_for_corr.corr()['NObeyesdad'].abs().sort_values(ascending=False)\n",
        "\n",
        "# Tampilkan 10 fitur teratas yang paling berkorelasi dengan target\n",
        "correlation.head(11)  # Termasuk target itu sendiri di posisi pertama"
      ]
    },
    {
      "cell_type": "markdown",
      "metadata": {
        "id": "jqgK-zEkj3Co"
      },
      "source": [
        "Beberapa fitur yang memiliki korelasi cukup tinggi terhadap tingkat obesitas adalah:\n",
        "\n",
        "- Weight – korelasi 0.40\n",
        "\n",
        "- CAEC_Sometimes – korelasi 0.36\n",
        "\n",
        "- CAEC_Frequently – korelasi 0.34\n",
        "\n",
        "- family_history_with_overweight_no/yes – sekitar 0.34\n",
        "\n",
        "- Age – korelasi 0.26\n",
        "\n",
        "- CALC_no – korelasi 0.20\n",
        "\n",
        "- NCP dan FAF – korelasi di bawah 0.17\n",
        "\n",
        "Kesimpulan:\n",
        "\n",
        "Semua fitur masih memberikan kontribusi terhadap klasifikasi, meskipun beberapa lebih kuat dari yang lain.\n",
        "\n",
        "Untuk saat ini, tidak ada fitur yang sangat tidak relevan, jadi kita dapat melanjutkan dengan menggunakan semua fitur."
      ]
    },
    {
      "cell_type": "code",
      "execution_count": 26,
      "metadata": {
        "id": "JIBE6AuVkGjM",
        "colab": {
          "base_uri": "https://localhost:8080/",
          "height": 798
        },
        "outputId": "c4e486b9-4a3f-4846-8365-84345514e85e"
      },
      "outputs": [
        {
          "output_type": "display_data",
          "data": {
            "text/plain": [
              "<Figure size 800x500 with 1 Axes>"
            ],
            "image/png": "[encoded data removed]"
          },
          "metadata": {}
        },
        {
          "output_type": "execute_result",
          "data": {
            "text/plain": [
              "NObeyesdad\n",
              "4    318\n",
              "2    277\n",
              "1    275\n",
              "3    265\n",
              "0    263\n",
              "6    245\n",
              "5    245\n",
              "Name: count, dtype: int64"
            ],
            "text/html": [
              "<div>\n",
              "<style scoped>\n",
              "    .dataframe tbody tr th:only-of-type {\n",
              "        vertical-align: middle;\n",
              "    }\n",
              "\n",
              "    .dataframe tbody tr th {\n",
              "        vertical-align: top;\n",
              "    }\n",
              "\n",
              "    .dataframe thead th {\n",
              "        text-align: right;\n",
              "    }\n",
              "</style>\n",
              "<table border=\"1\" class=\"dataframe\">\n",
              "  <thead>\n",
              "    <tr style=\"text-align: right;\">\n",
              "      <th></th>\n",
              "      <th>count</th>\n",
              "    </tr>\n",
              "    <tr>\n",
              "      <th>NObeyesdad</th>\n",
              "      <th></th>\n",
              "    </tr>\n",
              "  </thead>\n",
              "  <tbody>\n",
              "    <tr>\n",
              "      <th>4</th>\n",
              "      <td>318</td>\n",
              "    </tr>\n",
              "    <tr>\n",
              "      <th>2</th>\n",
              "      <td>277</td>\n",
              "    </tr>\n",
              "    <tr>\n",
              "      <th>1</th>\n",
              "      <td>275</td>\n",
              "    </tr>\n",
              "    <tr>\n",
              "      <th>3</th>\n",
              "      <td>265</td>\n",
              "    </tr>\n",
              "    <tr>\n",
              "      <th>0</th>\n",
              "      <td>263</td>\n",
              "    </tr>\n",
              "    <tr>\n",
              "      <th>6</th>\n",
              "      <td>245</td>\n",
              "    </tr>\n",
              "    <tr>\n",
              "      <th>5</th>\n",
              "      <td>245</td>\n",
              "    </tr>\n",
              "  </tbody>\n",
              "</table>\n",
              "</div><br><label><b>dtype:</b> int64</label>"
            ]
          },
          "metadata": {},
          "execution_count": 26
        }
      ],
      "source": [
        "# Mengecek distribusi kelas target setelah encoding\n",
        "class_distribution = df_processed['NObeyesdad'].value_counts()\n",
        "\n",
        "# Visualisasi distribusi kelas\n",
        "plt.figure(figsize=(8, 5))\n",
        "sns.countplot(x='NObeyesdad', data=df_processed)\n",
        "plt.title('Distribusi Kelas Target (Setelah Encoding)')\n",
        "plt.xlabel('Encoded Obesity Level')\n",
        "plt.ylabel('Jumlah')\n",
        "plt.show()\n",
        "\n",
        "class_distribution"
      ]
    },
    {
      "cell_type": "markdown",
      "metadata": {
        "id": "deTCbgGSlvsV"
      },
      "source": [
        "###Kesimpulan Tahap Preprocessing Data:"
      ]
    },
    {
      "cell_type": "markdown",
      "metadata": {
        "id": "27h-OgLClqIu"
      },
      "source": [
        "Duplikasi: 18 baris duplikat berhasil dihapus.\n",
        "\n",
        "Nilai Kosong: Semua nilai kosong telah dibuang dari dataset.\n",
        "\n",
        "Outlier: Dihapus menggunakan metode IQR, menyisakan 1170 data yang bersih.\n",
        "\n",
        "Encoding:\n",
        "\n",
        "Fitur kategorikal: Diubah menggunakan One-Hot Encoding.\n",
        "\n",
        "Target NObeyesdad: Diubah menggunakan Label Encoding.\n",
        "\n",
        "Seleksi Fitur: Semua fitur dipertahankan karena masih memberi kontribusi korelasi.\n",
        "\n",
        "Ketidakseimbangan Data: Diatasi menggunakan SMOTE, semua kelas kini seimbang.\n",
        "\n",
        "Standarisasi: Fitur numerik telah distandarisasi agar siap digunakan dalam pemodelan."
      ]
    },
    {
      "cell_type": "markdown",
      "metadata": {
        "id": "zUOOrT6CmShg"
      },
      "source": [
        "##Modelling"
      ]
    },
    {
      "cell_type": "markdown",
      "metadata": {
        "id": "9H2iFUMimgFp"
      },
      "source": [
        "###Training Model"
      ]
    },
    {
      "cell_type": "code",
      "execution_count": 27,
      "metadata": {
        "id": "noZJAVZQmb6R"
      },
      "outputs": [],
      "source": [
        "# Inisialisasi model\n",
        "models = {\n",
        "    \"Logistic Regression\": LogisticRegression(max_iter=1000, random_state=42),\n",
        "    \"Random Forest\": RandomForestClassifier(random_state=42),\n",
        "    \"KNN\": KNeighborsClassifier()\n",
        "}\n",
        "\n",
        "# Buat list kosong untuk menyimpan hasil evaluasi\n",
        "results_list = []"
      ]
    },
    {
      "cell_type": "code",
      "execution_count": 28,
      "metadata": {
        "id": "pRgH-6RfmjiI",
        "colab": {
          "base_uri": "https://localhost:8080/",
          "height": 1000
        },
        "outputId": "1dca6ebf-a1f5-475f-f1b8-fbdcca09bfac"
      },
      "outputs": [
        {
          "output_type": "stream",
          "name": "stdout",
          "text": [
            "\n",
            "--- Laporan Evaluasi untuk: Logistic Regression ---\n",
            "                     precision    recall  f1-score   support\n",
            "\n",
            "Insufficient_Weight       0.84      0.96      0.89        53\n",
            "      Normal_Weight       0.82      0.65      0.73        55\n",
            "     Obesity_Type_I       0.88      0.78      0.83        55\n",
            "    Obesity_Type_II       0.84      0.92      0.88        53\n",
            "   Obesity_Type_III       1.00      0.97      0.98        64\n",
            " Overweight_Level_I       0.65      0.71      0.68        49\n",
            "Overweight_Level_II       0.74      0.76      0.75        49\n",
            "\n",
            "           accuracy                           0.83       378\n",
            "          macro avg       0.82      0.82      0.82       378\n",
            "       weighted avg       0.83      0.83      0.83       378\n",
            "\n"
          ]
        },
        {
          "output_type": "display_data",
          "data": {
            "text/plain": [
              "<Figure size 800x600 with 2 Axes>"
            ],
            "image/png": "[encoded data removed]"
          },
          "metadata": {}
        },
        {
          "output_type": "stream",
          "name": "stdout",
          "text": [
            "\n",
            "--- Laporan Evaluasi untuk: Random Forest ---\n",
            "                     precision    recall  f1-score   support\n",
            "\n",
            "Insufficient_Weight       0.96      0.94      0.95        53\n",
            "      Normal_Weight       0.82      0.93      0.87        55\n",
            "     Obesity_Type_I       0.96      0.95      0.95        55\n",
            "    Obesity_Type_II       0.98      0.98      0.98        53\n",
            "   Obesity_Type_III       1.00      0.98      0.99        64\n",
            " Overweight_Level_I       0.93      0.86      0.89        49\n",
            "Overweight_Level_II       0.94      0.94      0.94        49\n",
            "\n",
            "           accuracy                           0.94       378\n",
            "          macro avg       0.94      0.94      0.94       378\n",
            "       weighted avg       0.94      0.94      0.94       378\n",
            "\n"
          ]
        },
        {
          "output_type": "display_data",
          "data": {
            "text/plain": [
              "<Figure size 800x600 with 2 Axes>"
            ],
            "image/png": "[encoded data removed]"
          },
          "metadata": {}
        },
        {
          "output_type": "stream",
          "name": "stdout",
          "text": [
            "\n",
            "--- Laporan Evaluasi untuk: KNN ---\n",
            "                     precision    recall  f1-score   support\n",
            "\n",
            "Insufficient_Weight       0.84      0.87      0.85        53\n",
            "      Normal_Weight       0.53      0.51      0.52        55\n",
            "     Obesity_Type_I       0.80      0.82      0.81        55\n",
            "    Obesity_Type_II       0.81      0.87      0.84        53\n",
            "   Obesity_Type_III       0.98      0.95      0.97        64\n",
            " Overweight_Level_I       0.67      0.67      0.67        49\n",
            "Overweight_Level_II       0.72      0.67      0.69        49\n",
            "\n",
            "           accuracy                           0.77       378\n",
            "          macro avg       0.76      0.77      0.76       378\n",
            "       weighted avg       0.77      0.77      0.77       378\n",
            "\n"
          ]
        },
        {
          "output_type": "display_data",
          "data": {
            "text/plain": [
              "<Figure size 800x600 with 2 Axes>"
            ],
            "image/png": "[encoded data removed]"
          },
          "metadata": {}
        },
        {
          "output_type": "stream",
          "name": "stdout",
          "text": [
            "\n",
            "--- Tabel Perbandingan Performa Model Awal ---\n"
          ]
        },
        {
          "output_type": "display_data",
          "data": {
            "text/plain": [
              "                 Model  Accuracy  Precision    Recall  F1-Score\n",
              "0  Logistic Regression  0.828042   0.831672  0.828042  0.827000\n",
              "1        Random Forest  0.941799   0.944179  0.941799  0.942289\n",
              "2                  KNN  0.772487   0.771090  0.772487  0.771426"
            ],
            "text/html": [
              "\n",
              "  <div id=\"df-d83ab744-1d0a-4367-9656-c1dde2899cb5\" class=\"colab-df-container\">\n",
              "    <div>\n",
              "<style scoped>\n",
              "    .dataframe tbody tr th:only-of-type {\n",
              "        vertical-align: middle;\n",
              "    }\n",
              "\n",
              "    .dataframe tbody tr th {\n",
              "        vertical-align: top;\n",
              "    }\n",
              "\n",
              "    .dataframe thead th {\n",
              "        text-align: right;\n",
              "    }\n",
              "</style>\n",
              "<table border=\"1\" class=\"dataframe\">\n",
              "  <thead>\n",
              "    <tr style=\"text-align: right;\">\n",
              "      <th></th>\n",
              "      <th>Model</th>\n",
              "      <th>Accuracy</th>\n",
              "      <th>Precision</th>\n",
              "      <th>Recall</th>\n",
              "      <th>F1-Score</th>\n",
              "    </tr>\n",
              "  </thead>\n",
              "  <tbody>\n",
              "    <tr>\n",
              "      <th>0</th>\n",
              "      <td>Logistic Regression</td>\n",
              "      <td>0.828042</td>\n",
              "      <td>0.831672</td>\n",
              "      <td>0.828042</td>\n",
              "      <td>0.827000</td>\n",
              "    </tr>\n",
              "    <tr>\n",
              "      <th>1</th>\n",
              "      <td>Random Forest</td>\n",
              "      <td>0.941799</td>\n",
              "      <td>0.944179</td>\n",
              "      <td>0.941799</td>\n",
              "      <td>0.942289</td>\n",
              "    </tr>\n",
              "    <tr>\n",
              "      <th>2</th>\n",
              "      <td>KNN</td>\n",
              "      <td>0.772487</td>\n",
              "      <td>0.771090</td>\n",
              "      <td>0.772487</td>\n",
              "      <td>0.771426</td>\n",
              "    </tr>\n",
              "  </tbody>\n",
              "</table>\n",
              "</div>\n",
              "    <div class=\"colab-df-buttons\">\n",
              "\n",
              "  <div class=\"colab-df-container\">\n",
              "    <button class=\"colab-df-convert\" onclick=\"convertToInteractive('df-d83ab744-1d0a-4367-9656-c1dde2899cb5')\"\n",
              "            title=\"Convert this dataframe to an interactive table.\"\n",
              "            style=\"display:none;\">\n",
              "\n",
              "  <svg xmlns=\"http://www.w3.org/2000/svg\" height=\"24px\" viewBox=\"0 -960 960 960\">\n",
              "    <path d=\"M120-120v-720h720v720H120Zm60-500h600v-160H180v160Zm220 220h160v-160H400v160Zm0 220h160v-160H400v160ZM180-400h160v-160H180v160Zm440 0h160v-160H620v160ZM180-180h160v-160H180v160Zm440 0h160v-160H620v160Z\"/>\n",
              "  </svg>\n",
              "    </button>\n",
              "\n",
              "  <style>\n",
              "    .colab-df-container {\n",
              "      display:flex;\n",
              "      gap: 12px;\n",
              "    }\n",
              "\n",
              "    .colab-df-convert {\n",
              "      background-color: #E8F0FE;\n",
              "      border: none;\n",
              "      border-radius: 50%;\n",
              "      cursor: pointer;\n",
              "      display: none;\n",
              "      fill: #1967D2;\n",
              "      height: 32px;\n",
              "      padding: 0 0 0 0;\n",
              "      width: 32px;\n",
              "    }\n",
              "\n",
              "    .colab-df-convert:hover {\n",
              "      background-color: #E2EBFA;\n",
              "      box-shadow: 0px 1px 2px rgba(60, 64, 67, 0.3), 0px 1px 3px 1px rgba(60, 64, 67, 0.15);\n",
              "      fill: #174EA6;\n",
              "    }\n",
              "\n",
              "    .colab-df-buttons div {\n",
              "      margin-bottom: 4px;\n",
              "    }\n",
              "\n",
              "    [theme=dark] .colab-df-convert {\n",
              "      background-color: #3B4455;\n",
              "      fill: #D2E3FC;\n",
              "    }\n",
              "\n",
              "    [theme=dark] .colab-df-convert:hover {\n",
              "      background-color: #434B5C;\n",
              "      box-shadow: 0px 1px 3px 1px rgba(0, 0, 0, 0.15);\n",
              "      filter: drop-shadow(0px 1px 2px rgba(0, 0, 0, 0.3));\n",
              "      fill: #FFFFFF;\n",
              "    }\n",
              "  </style>\n",
              "\n",
              "    <script>\n",
              "      const buttonEl =\n",
              "        document.querySelector('#df-d83ab744-1d0a-4367-9656-c1dde2899cb5 button.colab-df-convert');\n",
              "      buttonEl.style.display =\n",
              "        google.colab.kernel.accessAllowed ? 'block' : 'none';\n",
              "\n",
              "      async function convertToInteractive(key) {\n",
              "        const element = document.querySelector('#df-d83ab744-1d0a-4367-9656-c1dde2899cb5');\n",
              "        const dataTable =\n",
              "          await google.colab.kernel.invokeFunction('convertToInteractive',\n",
              "                                                    [key], {});\n",
              "        if (!dataTable) return;\n",
              "\n",
              "        const docLinkHtml = 'Like what you see? Visit the ' +\n",
              "          '<a target=\"_blank\" href=https://colab.research.google.com/notebooks/data_table.ipynb>data table notebook</a>'\n",
              "          + ' to learn more about interactive tables.';\n",
              "        element.innerHTML = '';\n",
              "        dataTable['output_type'] = 'display_data';\n",
              "        await google.colab.output.renderOutput(dataTable, element);\n",
              "        const docLink = document.createElement('div');\n",
              "        docLink.innerHTML = docLinkHtml;\n",
              "        element.appendChild(docLink);\n",
              "      }\n",
              "    </script>\n",
              "  </div>\n",
              "\n",
              "\n",
              "    <div id=\"df-c827ce95-9ae4-4178-99d1-a886d26d1946\">\n",
              "      <button class=\"colab-df-quickchart\" onclick=\"quickchart('df-c827ce95-9ae4-4178-99d1-a886d26d1946')\"\n",
              "                title=\"Suggest charts\"\n",
              "                style=\"display:none;\">\n",
              "\n",
              "<svg xmlns=\"http://www.w3.org/2000/svg\" height=\"24px\"viewBox=\"0 0 24 24\"\n",
              "     width=\"24px\">\n",
              "    <g>\n",
              "        <path d=\"M19 3H5c-1.1 0-2 .9-2 2v14c0 1.1.9 2 2 2h14c1.1 0 2-.9 2-2V5c0-1.1-.9-2-2-2zM9 17H7v-7h2v7zm4 0h-2V7h2v10zm4 0h-2v-4h2v4z\"/>\n",
              "    </g>\n",
              "</svg>\n",
              "      </button>\n",
              "\n",
              "<style>\n",
              "  .colab-df-quickchart {\n",
              "      --bg-color: #E8F0FE;\n",
              "      --fill-color: #1967D2;\n",
              "      --hover-bg-color: #E2EBFA;\n",
              "      --hover-fill-color: #174EA6;\n",
              "      --disabled-fill-color: #AAA;\n",
              "      --disabled-bg-color: #DDD;\n",
              "  }\n",
              "\n",
              "  [theme=dark] .colab-df-quickchart {\n",
              "      --bg-color: #3B4455;\n",
              "      --fill-color: #D2E3FC;\n",
              "      --hover-bg-color: #434B5C;\n",
              "      --hover-fill-color: #FFFFFF;\n",
              "      --disabled-bg-color: #3B4455;\n",
              "      --disabled-fill-color: #666;\n",
              "  }\n",
              "\n",
              "  .colab-df-quickchart {\n",
              "    background-color: var(--bg-color);\n",
              "    border: none;\n",
              "    border-radius: 50%;\n",
              "    cursor: pointer;\n",
              "    display: none;\n",
              "    fill: var(--fill-color);\n",
              "    height: 32px;\n",
              "    padding: 0;\n",
              "    width: 32px;\n",
              "  }\n",
              "\n",
              "  .colab-df-quickchart:hover {\n",
              "    background-color: var(--hover-bg-color);\n",
              "    box-shadow: 0 1px 2px rgba(60, 64, 67, 0.3), 0 1px 3px 1px rgba(60, 64, 67, 0.15);\n",
              "    fill: var(--button-hover-fill-color);\n",
              "  }\n",
              "\n",
              "  .colab-df-quickchart-complete:disabled,\n",
              "  .colab-df-quickchart-complete:disabled:hover {\n",
              "    background-color: var(--disabled-bg-color);\n",
              "    fill: var(--disabled-fill-color);\n",
              "    box-shadow: none;\n",
              "  }\n",
              "\n",
              "  .colab-df-spinner {\n",
              "    border: 2px solid var(--fill-color);\n",
              "    border-color: transparent;\n",
              "    border-bottom-color: var(--fill-color);\n",
              "    animation:\n",
              "      spin 1s steps(1) infinite;\n",
              "  }\n",
              "\n",
              "  @keyframes spin {\n",
              "    0% {\n",
              "      border-color: transparent;\n",
              "      border-bottom-color: var(--fill-color);\n",
              "      border-left-color: var(--fill-color);\n",
              "    }\n",
              "    20% {\n",
              "      border-color: transparent;\n",
              "      border-left-color: var(--fill-color);\n",
              "      border-top-color: var(--fill-color);\n",
              "    }\n",
              "    30% {\n",
              "      border-color: transparent;\n",
              "      border-left-color: var(--fill-color);\n",
              "      border-top-color: var(--fill-color);\n",
              "      border-right-color: var(--fill-color);\n",
              "    }\n",
              "    40% {\n",
              "      border-color: transparent;\n",
              "      border-right-color: var(--fill-color);\n",
              "      border-top-color: var(--fill-color);\n",
              "    }\n",
              "    60% {\n",
              "      border-color: transparent;\n",
              "      border-right-color: var(--fill-color);\n",
              "    }\n",
              "    80% {\n",
              "      border-color: transparent;\n",
              "      border-right-color: var(--fill-color);\n",
              "      border-bottom-color: var(--fill-color);\n",
              "    }\n",
              "    90% {\n",
              "      border-color: transparent;\n",
              "      border-bottom-color: var(--fill-color);\n",
              "    }\n",
              "  }\n",
              "</style>\n",
              "\n",
              "      <script>\n",
              "        async function quickchart(key) {\n",
              "          const quickchartButtonEl =\n",
              "            document.querySelector('#' + key + ' button');\n",
              "          quickchartButtonEl.disabled = true;  // To prevent multiple clicks.\n",
              "          quickchartButtonEl.classList.add('colab-df-spinner');\n",
              "          try {\n",
              "            const charts = await google.colab.kernel.invokeFunction(\n",
              "                'suggestCharts', [key], {});\n",
              "          } catch (error) {\n",
              "            console.error('Error during call to suggestCharts:', error);\n",
              "          }\n",
              "          quickchartButtonEl.classList.remove('colab-df-spinner');\n",
              "          quickchartButtonEl.classList.add('colab-df-quickchart-complete');\n",
              "        }\n",
              "        (() => {\n",
              "          let quickchartButtonEl =\n",
              "            document.querySelector('#df-c827ce95-9ae4-4178-99d1-a886d26d1946 button');\n",
              "          quickchartButtonEl.style.display =\n",
              "            google.colab.kernel.accessAllowed ? 'block' : 'none';\n",
              "        })();\n",
              "      </script>\n",
              "    </div>\n",
              "\n",
              "  <div id=\"id_8ae75085-f751-4130-9c08-96c01edb78f3\">\n",
              "    <style>\n",
              "      .colab-df-generate {\n",
              "        background-color: #E8F0FE;\n",
              "        border: none;\n",
              "        border-radius: 50%;\n",
              "        cursor: pointer;\n",
              "        display: none;\n",
              "        fill: #1967D2;\n",
              "        height: 32px;\n",
              "        padding: 0 0 0 0;\n",
              "        width: 32px;\n",
              "      }\n",
              "\n",
              "      .colab-df-generate:hover {\n",
              "        background-color: #E2EBFA;\n",
              "        box-shadow: 0px 1px 2px rgba(60, 64, 67, 0.3), 0px 1px 3px 1px rgba(60, 64, 67, 0.15);\n",
              "        fill: #174EA6;\n",
              "      }\n",
              "\n",
              "      [theme=dark] .colab-df-generate {\n",
              "        background-color: #3B4455;\n",
              "        fill: #D2E3FC;\n",
              "      }\n",
              "\n",
              "      [theme=dark] .colab-df-generate:hover {\n",
              "        background-color: #434B5C;\n",
              "        box-shadow: 0px 1px 3px 1px rgba(0, 0, 0, 0.15);\n",
              "        filter: drop-shadow(0px 1px 2px rgba(0, 0, 0, 0.3));\n",
              "        fill: #FFFFFF;\n",
              "      }\n",
              "    </style>\n",
              "    <button class=\"colab-df-generate\" onclick=\"generateWithVariable('results_df')\"\n",
              "            title=\"Generate code using this dataframe.\"\n",
              "            style=\"display:none;\">\n",
              "\n",
              "  <svg xmlns=\"http://www.w3.org/2000/svg\" height=\"24px\"viewBox=\"0 0 24 24\"\n",
              "       width=\"24px\">\n",
              "    <path d=\"M7,19H8.4L18.45,9,17,7.55,7,17.6ZM5,21V16.75L18.45,3.32a2,2,0,0,1,2.83,0l1.4,1.43a1.91,1.91,0,0,1,.58,1.4,1.91,1.91,0,0,1-.58,1.4L9.25,21ZM18.45,9,17,7.55Zm-12,3A5.31,5.31,0,0,0,4.9,8.1,5.31,5.31,0,0,0,1,6.5,5.31,5.31,0,0,0,4.9,4.9,5.31,5.31,0,0,0,6.5,1,5.31,5.31,0,0,0,8.1,4.9,5.31,5.31,0,0,0,12,6.5,5.46,5.46,0,0,0,6.5,12Z\"/>\n",
              "  </svg>\n",
              "    </button>\n",
              "    <script>\n",
              "      (() => {\n",
              "      const buttonEl =\n",
              "        document.querySelector('#id_8ae75085-f751-4130-9c08-96c01edb78f3 button.colab-df-generate');\n",
              "      buttonEl.style.display =\n",
              "        google.colab.kernel.accessAllowed ? 'block' : 'none';\n",
              "\n",
              "      buttonEl.onclick = () => {\n",
              "        google.colab.notebook.generateWithVariable('results_df');\n",
              "      }\n",
              "      })();\n",
              "    </script>\n",
              "  </div>\n",
              "\n",
              "    </div>\n",
              "  </div>\n"
            ],
            "application/vnd.google.colaboratory.intrinsic+json": {
              "type": "dataframe",
              "variable_name": "results_df",
              "summary": "{\n  \"name\": \"results_df\",\n  \"rows\": 3,\n  \"fields\": [\n    {\n      \"column\": \"Model\",\n      \"properties\": {\n        \"dtype\": \"string\",\n        \"num_unique_values\": 3,\n        \"samples\": [\n          \"Logistic Regression\",\n          \"Random Forest\",\n          \"KNN\"\n        ],\n        \"semantic_type\": \"\",\n        \"description\": \"\"\n      }\n    },\n    {\n      \"column\": \"Accuracy\",\n      \"properties\": {\n        \"dtype\": \"number\",\n        \"std\": 0.0863072009390975,\n        \"min\": 0.7724867724867724,\n        \"max\": 0.9417989417989417,\n        \"num_unique_values\": 3,\n        \"samples\": [\n          0.828042328042328,\n          0.9417989417989417,\n          0.7724867724867724\n        ],\n        \"semantic_type\": \"\",\n        \"description\": \"\"\n      }\n    },\n    {\n      \"column\": \"Precision\",\n      \"properties\": {\n        \"dtype\": \"number\",\n        \"std\": 0.08783302216280671,\n        \"min\": 0.7710903458872354,\n        \"max\": 0.9441792863537188,\n        \"num_unique_values\": 3,\n        \"samples\": [\n          0.8316717006891794,\n          0.9441792863537188,\n          0.7710903458872354\n        ],\n        \"semantic_type\": \"\",\n        \"description\": \"\"\n      }\n    },\n    {\n      \"column\": \"Recall\",\n      \"properties\": {\n        \"dtype\": \"number\",\n        \"std\": 0.0863072009390975,\n        \"min\": 0.7724867724867724,\n        \"max\": 0.9417989417989417,\n        \"num_unique_values\": 3,\n        \"samples\": [\n          0.828042328042328,\n          0.9417989417989417,\n          0.7724867724867724\n        ],\n        \"semantic_type\": \"\",\n        \"description\": \"\"\n      }\n    },\n    {\n      \"column\": \"F1-Score\",\n      \"properties\": {\n        \"dtype\": \"number\",\n        \"std\": 0.08715350347359764,\n        \"min\": 0.7714256434390102,\n        \"max\": 0.9422890732269076,\n        \"num_unique_values\": 3,\n        \"samples\": [\n          0.8269999342309974,\n          0.9422890732269076,\n          0.7714256434390102\n        ],\n        \"semantic_type\": \"\",\n        \"description\": \"\"\n      }\n    }\n  ]\n}"
            }
          },
          "metadata": {}
        }
      ],
      "source": [
        "for name, model in models.items():\n",
        "    # Latih model dengan data latih yang sudah di-scale dan di-resample\n",
        "    model.fit(X_train_resampled, y_train_resampled)\n",
        "\n",
        "    # Prediksi pada data uji yang sudah di-scale\n",
        "    y_pred = model.predict(X_test_scaled)\n",
        "\n",
        "    # HITUNG METRIK EVALUASI\n",
        "    acc = accuracy_score(y_test, y_pred)\n",
        "    prec = precision_score(y_test, y_pred, average='weighted', zero_division=0)\n",
        "    rec = recall_score(y_test, y_pred, average='weighted')\n",
        "    f1 = f1_score(y_test, y_pred, average='weighted')\n",
        "\n",
        "    # TAMBAHKAN HASIL KE DALAM LIST (BAGIAN PENTING YANG HILANG)\n",
        "    results_list.append({\n",
        "        'Model': name,\n",
        "        'Accuracy': acc,\n",
        "        'Precision': prec,\n",
        "        'Recall': rec,\n",
        "        'F1-Score': f1\n",
        "    })\n",
        "\n",
        "    # Tampilkan laporan dan confusion matrix untuk setiap model (ini sudah benar)\n",
        "    print(f\"\\n--- Laporan Evaluasi untuk: {name} ---\")\n",
        "    print(classification_report(y_test, y_pred, target_names=le.classes_))\n",
        "\n",
        "    cm = confusion_matrix(y_test, y_pred)\n",
        "    plt.figure(figsize=(8, 6))\n",
        "    sns.heatmap(cm, annot=True, fmt='d', cmap='Blues', xticklabels=le.classes_, yticklabels=le.classes_)\n",
        "    plt.title(f'Confusion Matrix - {name}')\n",
        "    plt.ylabel('Label Aktual')\n",
        "    plt.xlabel('Label Prediksi')\n",
        "    plt.show()\n",
        "\n",
        "# --- BARIS PENTING YANG HILANG DARI NOTEBOOK ANDA ---\n",
        "# Konversi list hasil ke dalam DataFrame\n",
        "results_df = pd.DataFrame(results_list)\n",
        "\n",
        "# Tampilkan DataFrame hasil evaluasi untuk verifikasi\n",
        "print(\"\\n--- Tabel Perbandingan Performa Model Awal ---\")\n",
        "display(results_df)"
      ]
    },
    {
      "cell_type": "markdown",
      "metadata": {
        "id": "FHx-vFrbmp0N"
      },
      "source": [
        "###Visualisation"
      ]
    },
    {
      "cell_type": "code",
      "execution_count": 29,
      "metadata": {
        "id": "YZq_nyuWmtFk",
        "colab": {
          "base_uri": "https://localhost:8080/",
          "height": 751
        },
        "outputId": "95049f51-b060-4137-d061-dfe4b16e9a8f"
      },
      "outputs": [
        {
          "output_type": "display_data",
          "data": {
            "text/plain": [
              "<Figure size 1000x600 with 0 Axes>"
            ]
          },
          "metadata": {}
        },
        {
          "output_type": "display_data",
          "data": {
            "text/plain": [
              "<Figure size 1200x600 with 1 Axes>"
            ],
            "image/png": "[encoded data removed]"
          },
          "metadata": {}
        },
        {
          "output_type": "execute_result",
          "data": {
            "text/plain": [
              "                 Model  Accuracy  Precision    Recall  F1-Score\n",
              "0  Logistic Regression  0.828042   0.831672  0.828042  0.827000\n",
              "1        Random Forest  0.941799   0.944179  0.941799  0.942289\n",
              "2                  KNN  0.772487   0.771090  0.772487  0.771426"
            ],
            "text/html": [
              "\n",
              "  <div id=\"df-ca12cf9e-3a5d-407d-a347-13db89ac9906\" class=\"colab-df-container\">\n",
              "    <div>\n",
              "<style scoped>\n",
              "    .dataframe tbody tr th:only-of-type {\n",
              "        vertical-align: middle;\n",
              "    }\n",
              "\n",
              "    .dataframe tbody tr th {\n",
              "        vertical-align: top;\n",
              "    }\n",
              "\n",
              "    .dataframe thead th {\n",
              "        text-align: right;\n",
              "    }\n",
              "</style>\n",
              "<table border=\"1\" class=\"dataframe\">\n",
              "  <thead>\n",
              "    <tr style=\"text-align: right;\">\n",
              "      <th></th>\n",
              "      <th>Model</th>\n",
              "      <th>Accuracy</th>\n",
              "      <th>Precision</th>\n",
              "      <th>Recall</th>\n",
              "      <th>F1-Score</th>\n",
              "    </tr>\n",
              "  </thead>\n",
              "  <tbody>\n",
              "    <tr>\n",
              "      <th>0</th>\n",
              "      <td>Logistic Regression</td>\n",
              "      <td>0.828042</td>\n",
              "      <td>0.831672</td>\n",
              "      <td>0.828042</td>\n",
              "      <td>0.827000</td>\n",
              "    </tr>\n",
              "    <tr>\n",
              "      <th>1</th>\n",
              "      <td>Random Forest</td>\n",
              "      <td>0.941799</td>\n",
              "      <td>0.944179</td>\n",
              "      <td>0.941799</td>\n",
              "      <td>0.942289</td>\n",
              "    </tr>\n",
              "    <tr>\n",
              "      <th>2</th>\n",
              "      <td>KNN</td>\n",
              "      <td>0.772487</td>\n",
              "      <td>0.771090</td>\n",
              "      <td>0.772487</td>\n",
              "      <td>0.771426</td>\n",
              "    </tr>\n",
              "  </tbody>\n",
              "</table>\n",
              "</div>\n",
              "    <div class=\"colab-df-buttons\">\n",
              "\n",
              "  <div class=\"colab-df-container\">\n",
              "    <button class=\"colab-df-convert\" onclick=\"convertToInteractive('df-ca12cf9e-3a5d-407d-a347-13db89ac9906')\"\n",
              "            title=\"Convert this dataframe to an interactive table.\"\n",
              "            style=\"display:none;\">\n",
              "\n",
              "  <svg xmlns=\"http://www.w3.org/2000/svg\" height=\"24px\" viewBox=\"0 -960 960 960\">\n",
              "    <path d=\"M120-120v-720h720v720H120Zm60-500h600v-160H180v160Zm220 220h160v-160H400v160Zm0 220h160v-160H400v160ZM180-400h160v-160H180v160Zm440 0h160v-160H620v160ZM180-180h160v-160H180v160Zm440 0h160v-160H620v160Z\"/>\n",
              "  </svg>\n",
              "    </button>\n",
              "\n",
              "  <style>\n",
              "    .colab-df-container {\n",
              "      display:flex;\n",
              "      gap: 12px;\n",
              "    }\n",
              "\n",
              "    .colab-df-convert {\n",
              "      background-color: #E8F0FE;\n",
              "      border: none;\n",
              "      border-radius: 50%;\n",
              "      cursor: pointer;\n",
              "      display: none;\n",
              "      fill: #1967D2;\n",
              "      height: 32px;\n",
              "      padding: 0 0 0 0;\n",
              "      width: 32px;\n",
              "    }\n",
              "\n",
              "    .colab-df-convert:hover {\n",
              "      background-color: #E2EBFA;\n",
              "      box-shadow: 0px 1px 2px rgba(60, 64, 67, 0.3), 0px 1px 3px 1px rgba(60, 64, 67, 0.15);\n",
              "      fill: #174EA6;\n",
              "    }\n",
              "\n",
              "    .colab-df-buttons div {\n",
              "      margin-bottom: 4px;\n",
              "    }\n",
              "\n",
              "    [theme=dark] .colab-df-convert {\n",
              "      background-color: #3B4455;\n",
              "      fill: #D2E3FC;\n",
              "    }\n",
              "\n",
              "    [theme=dark] .colab-df-convert:hover {\n",
              "      background-color: #434B5C;\n",
              "      box-shadow: 0px 1px 3px 1px rgba(0, 0, 0, 0.15);\n",
              "      filter: drop-shadow(0px 1px 2px rgba(0, 0, 0, 0.3));\n",
              "      fill: #FFFFFF;\n",
              "    }\n",
              "  </style>\n",
              "\n",
              "    <script>\n",
              "      const buttonEl =\n",
              "        document.querySelector('#df-ca12cf9e-3a5d-407d-a347-13db89ac9906 button.colab-df-convert');\n",
              "      buttonEl.style.display =\n",
              "        google.colab.kernel.accessAllowed ? 'block' : 'none';\n",
              "\n",
              "      async function convertToInteractive(key) {\n",
              "        const element = document.querySelector('#df-ca12cf9e-3a5d-407d-a347-13db89ac9906');\n",
              "        const dataTable =\n",
              "          await google.colab.kernel.invokeFunction('convertToInteractive',\n",
              "                                                    [key], {});\n",
              "        if (!dataTable) return;\n",
              "\n",
              "        const docLinkHtml = 'Like what you see? Visit the ' +\n",
              "          '<a target=\"_blank\" href=https://colab.research.google.com/notebooks/data_table.ipynb>data table notebook</a>'\n",
              "          + ' to learn more about interactive tables.';\n",
              "        element.innerHTML = '';\n",
              "        dataTable['output_type'] = 'display_data';\n",
              "        await google.colab.output.renderOutput(dataTable, element);\n",
              "        const docLink = document.createElement('div');\n",
              "        docLink.innerHTML = docLinkHtml;\n",
              "        element.appendChild(docLink);\n",
              "      }\n",
              "    </script>\n",
              "  </div>\n",
              "\n",
              "\n",
              "    <div id=\"df-e2373b63-beb2-4c78-b800-8ff2185b7593\">\n",
              "      <button class=\"colab-df-quickchart\" onclick=\"quickchart('df-e2373b63-beb2-4c78-b800-8ff2185b7593')\"\n",
              "                title=\"Suggest charts\"\n",
              "                style=\"display:none;\">\n",
              "\n",
              "<svg xmlns=\"http://www.w3.org/2000/svg\" height=\"24px\"viewBox=\"0 0 24 24\"\n",
              "     width=\"24px\">\n",
              "    <g>\n",
              "        <path d=\"M19 3H5c-1.1 0-2 .9-2 2v14c0 1.1.9 2 2 2h14c1.1 0 2-.9 2-2V5c0-1.1-.9-2-2-2zM9 17H7v-7h2v7zm4 0h-2V7h2v10zm4 0h-2v-4h2v4z\"/>\n",
              "    </g>\n",
              "</svg>\n",
              "      </button>\n",
              "\n",
              "<style>\n",
              "  .colab-df-quickchart {\n",
              "      --bg-color: #E8F0FE;\n",
              "      --fill-color: #1967D2;\n",
              "      --hover-bg-color: #E2EBFA;\n",
              "      --hover-fill-color: #174EA6;\n",
              "      --disabled-fill-color: #AAA;\n",
              "      --disabled-bg-color: #DDD;\n",
              "  }\n",
              "\n",
              "  [theme=dark] .colab-df-quickchart {\n",
              "      --bg-color: #3B4455;\n",
              "      --fill-color: #D2E3FC;\n",
              "      --hover-bg-color: #434B5C;\n",
              "      --hover-fill-color: #FFFFFF;\n",
              "      --disabled-bg-color: #3B4455;\n",
              "      --disabled-fill-color: #666;\n",
              "  }\n",
              "\n",
              "  .colab-df-quickchart {\n",
              "    background-color: var(--bg-color);\n",
              "    border: none;\n",
              "    border-radius: 50%;\n",
              "    cursor: pointer;\n",
              "    display: none;\n",
              "    fill: var(--fill-color);\n",
              "    height: 32px;\n",
              "    padding: 0;\n",
              "    width: 32px;\n",
              "  }\n",
              "\n",
              "  .colab-df-quickchart:hover {\n",
              "    background-color: var(--hover-bg-color);\n",
              "    box-shadow: 0 1px 2px rgba(60, 64, 67, 0.3), 0 1px 3px 1px rgba(60, 64, 67, 0.15);\n",
              "    fill: var(--button-hover-fill-color);\n",
              "  }\n",
              "\n",
              "  .colab-df-quickchart-complete:disabled,\n",
              "  .colab-df-quickchart-complete:disabled:hover {\n",
              "    background-color: var(--disabled-bg-color);\n",
              "    fill: var(--disabled-fill-color);\n",
              "    box-shadow: none;\n",
              "  }\n",
              "\n",
              "  .colab-df-spinner {\n",
              "    border: 2px solid var(--fill-color);\n",
              "    border-color: transparent;\n",
              "    border-bottom-color: var(--fill-color);\n",
              "    animation:\n",
              "      spin 1s steps(1) infinite;\n",
              "  }\n",
              "\n",
              "  @keyframes spin {\n",
              "    0% {\n",
              "      border-color: transparent;\n",
              "      border-bottom-color: var(--fill-color);\n",
              "      border-left-color: var(--fill-color);\n",
              "    }\n",
              "    20% {\n",
              "      border-color: transparent;\n",
              "      border-left-color: var(--fill-color);\n",
              "      border-top-color: var(--fill-color);\n",
              "    }\n",
              "    30% {\n",
              "      border-color: transparent;\n",
              "      border-left-color: var(--fill-color);\n",
              "      border-top-color: var(--fill-color);\n",
              "      border-right-color: var(--fill-color);\n",
              "    }\n",
              "    40% {\n",
              "      border-color: transparent;\n",
              "      border-right-color: var(--fill-color);\n",
              "      border-top-color: var(--fill-color);\n",
              "    }\n",
              "    60% {\n",
              "      border-color: transparent;\n",
              "      border-right-color: var(--fill-color);\n",
              "    }\n",
              "    80% {\n",
              "      border-color: transparent;\n",
              "      border-right-color: var(--fill-color);\n",
              "      border-bottom-color: var(--fill-color);\n",
              "    }\n",
              "    90% {\n",
              "      border-color: transparent;\n",
              "      border-bottom-color: var(--fill-color);\n",
              "    }\n",
              "  }\n",
              "</style>\n",
              "\n",
              "      <script>\n",
              "        async function quickchart(key) {\n",
              "          const quickchartButtonEl =\n",
              "            document.querySelector('#' + key + ' button');\n",
              "          quickchartButtonEl.disabled = true;  // To prevent multiple clicks.\n",
              "          quickchartButtonEl.classList.add('colab-df-spinner');\n",
              "          try {\n",
              "            const charts = await google.colab.kernel.invokeFunction(\n",
              "                'suggestCharts', [key], {});\n",
              "          } catch (error) {\n",
              "            console.error('Error during call to suggestCharts:', error);\n",
              "          }\n",
              "          quickchartButtonEl.classList.remove('colab-df-spinner');\n",
              "          quickchartButtonEl.classList.add('colab-df-quickchart-complete');\n",
              "        }\n",
              "        (() => {\n",
              "          let quickchartButtonEl =\n",
              "            document.querySelector('#df-e2373b63-beb2-4c78-b800-8ff2185b7593 button');\n",
              "          quickchartButtonEl.style.display =\n",
              "            google.colab.kernel.accessAllowed ? 'block' : 'none';\n",
              "        })();\n",
              "      </script>\n",
              "    </div>\n",
              "\n",
              "  <div id=\"id_87630085-798a-4f6b-b7f2-8e3378677eb5\">\n",
              "    <style>\n",
              "      .colab-df-generate {\n",
              "        background-color: #E8F0FE;\n",
              "        border: none;\n",
              "        border-radius: 50%;\n",
              "        cursor: pointer;\n",
              "        display: none;\n",
              "        fill: #1967D2;\n",
              "        height: 32px;\n",
              "        padding: 0 0 0 0;\n",
              "        width: 32px;\n",
              "      }\n",
              "\n",
              "      .colab-df-generate:hover {\n",
              "        background-color: #E2EBFA;\n",
              "        box-shadow: 0px 1px 2px rgba(60, 64, 67, 0.3), 0px 1px 3px 1px rgba(60, 64, 67, 0.15);\n",
              "        fill: #174EA6;\n",
              "      }\n",
              "\n",
              "      [theme=dark] .colab-df-generate {\n",
              "        background-color: #3B4455;\n",
              "        fill: #D2E3FC;\n",
              "      }\n",
              "\n",
              "      [theme=dark] .colab-df-generate:hover {\n",
              "        background-color: #434B5C;\n",
              "        box-shadow: 0px 1px 3px 1px rgba(0, 0, 0, 0.15);\n",
              "        filter: drop-shadow(0px 1px 2px rgba(0, 0, 0, 0.3));\n",
              "        fill: #FFFFFF;\n",
              "      }\n",
              "    </style>\n",
              "    <button class=\"colab-df-generate\" onclick=\"generateWithVariable('results_df')\"\n",
              "            title=\"Generate code using this dataframe.\"\n",
              "            style=\"display:none;\">\n",
              "\n",
              "  <svg xmlns=\"http://www.w3.org/2000/svg\" height=\"24px\"viewBox=\"0 0 24 24\"\n",
              "       width=\"24px\">\n",
              "    <path d=\"M7,19H8.4L18.45,9,17,7.55,7,17.6ZM5,21V16.75L18.45,3.32a2,2,0,0,1,2.83,0l1.4,1.43a1.91,1.91,0,0,1,.58,1.4,1.91,1.91,0,0,1-.58,1.4L9.25,21ZM18.45,9,17,7.55Zm-12,3A5.31,5.31,0,0,0,4.9,8.1,5.31,5.31,0,0,0,1,6.5,5.31,5.31,0,0,0,4.9,4.9,5.31,5.31,0,0,0,6.5,1,5.31,5.31,0,0,0,8.1,4.9,5.31,5.31,0,0,0,12,6.5,5.46,5.46,0,0,0,6.5,12Z\"/>\n",
              "  </svg>\n",
              "    </button>\n",
              "    <script>\n",
              "      (() => {\n",
              "      const buttonEl =\n",
              "        document.querySelector('#id_87630085-798a-4f6b-b7f2-8e3378677eb5 button.colab-df-generate');\n",
              "      buttonEl.style.display =\n",
              "        google.colab.kernel.accessAllowed ? 'block' : 'none';\n",
              "\n",
              "      buttonEl.onclick = () => {\n",
              "        google.colab.notebook.generateWithVariable('results_df');\n",
              "      }\n",
              "      })();\n",
              "    </script>\n",
              "  </div>\n",
              "\n",
              "    </div>\n",
              "  </div>\n"
            ],
            "application/vnd.google.colaboratory.intrinsic+json": {
              "type": "dataframe",
              "variable_name": "results_df",
              "summary": "{\n  \"name\": \"results_df\",\n  \"rows\": 3,\n  \"fields\": [\n    {\n      \"column\": \"Model\",\n      \"properties\": {\n        \"dtype\": \"string\",\n        \"num_unique_values\": 3,\n        \"samples\": [\n          \"Logistic Regression\",\n          \"Random Forest\",\n          \"KNN\"\n        ],\n        \"semantic_type\": \"\",\n        \"description\": \"\"\n      }\n    },\n    {\n      \"column\": \"Accuracy\",\n      \"properties\": {\n        \"dtype\": \"number\",\n        \"std\": 0.0863072009390975,\n        \"min\": 0.7724867724867724,\n        \"max\": 0.9417989417989417,\n        \"num_unique_values\": 3,\n        \"samples\": [\n          0.828042328042328,\n          0.9417989417989417,\n          0.7724867724867724\n        ],\n        \"semantic_type\": \"\",\n        \"description\": \"\"\n      }\n    },\n    {\n      \"column\": \"Precision\",\n      \"properties\": {\n        \"dtype\": \"number\",\n        \"std\": 0.08783302216280671,\n        \"min\": 0.7710903458872354,\n        \"max\": 0.9441792863537188,\n        \"num_unique_values\": 3,\n        \"samples\": [\n          0.8316717006891794,\n          0.9441792863537188,\n          0.7710903458872354\n        ],\n        \"semantic_type\": \"\",\n        \"description\": \"\"\n      }\n    },\n    {\n      \"column\": \"Recall\",\n      \"properties\": {\n        \"dtype\": \"number\",\n        \"std\": 0.0863072009390975,\n        \"min\": 0.7724867724867724,\n        \"max\": 0.9417989417989417,\n        \"num_unique_values\": 3,\n        \"samples\": [\n          0.828042328042328,\n          0.9417989417989417,\n          0.7724867724867724\n        ],\n        \"semantic_type\": \"\",\n        \"description\": \"\"\n      }\n    },\n    {\n      \"column\": \"F1-Score\",\n      \"properties\": {\n        \"dtype\": \"number\",\n        \"std\": 0.08715350347359764,\n        \"min\": 0.7714256434390102,\n        \"max\": 0.9422890732269076,\n        \"num_unique_values\": 3,\n        \"samples\": [\n          0.8269999342309974,\n          0.9422890732269076,\n          0.7714256434390102\n        ],\n        \"semantic_type\": \"\",\n        \"description\": \"\"\n      }\n    }\n  ]\n}"
            }
          },
          "metadata": {},
          "execution_count": 29
        }
      ],
      "source": [
        "# Tampilkan visualisasi perbandingan performa\n",
        "plt.figure(figsize=(10, 6))\n",
        "results_df.set_index('Model')[['Accuracy', 'Precision', 'Recall', 'F1-Score']].plot(kind='bar', figsize=(12, 6))\n",
        "plt.title(\"Perbandingan Performa Model Klasifikasi\")\n",
        "plt.ylabel(\"Skor\")\n",
        "plt.ylim(0, 1)\n",
        "plt.xticks(rotation=0)\n",
        "plt.grid(axis='y')\n",
        "plt.legend(loc='lower right')\n",
        "plt.tight_layout()\n",
        "plt.show()\n",
        "\n",
        "results_df"
      ]
    },
    {
      "cell_type": "markdown",
      "metadata": {
        "id": "fkIOaDDbmzrE"
      },
      "source": [
        "Visualisasi:\n",
        "\n",
        "- Grafik bar menunjukkan bahwa Random Forest memberikan performa terbaik secara konsisten di semua metrik.\n",
        "\n",
        "- Logistic Regression juga bekerja sangat baik.\n",
        "\n",
        "- KNN secara signifikan memiliki performa lebih rendah, kemungkinan karena sensitivitas terhadap data berdimensi tinggi.\n",
        "\n"
      ]
    },
    {
      "cell_type": "markdown",
      "metadata": {
        "id": "fZcazpkAm7vG"
      },
      "source": [
        "Kesimpulan:\n",
        "1. Random Forest adalah model terbaik untuk dataset ini dengan skor F1 tertinggi dan stabil di semua metrik.\n",
        "\n",
        "2. Logistic Regression menjadi pilihan kedua dengan hasil yang sangat kompetitif.\n",
        "\n",
        "3. KNN memiliki performa paling rendah, kemungkinan besar karena keterbatasannya dalam menangani data multikelas berdimensi tinggi meski sudah dinormalisasi."
      ]
    },
    {
      "cell_type": "markdown",
      "metadata": {
        "id": "ygxWPwrPoXcz"
      },
      "source": [
        "##Hyperparameter Tuning"
      ]
    },
    {
      "cell_type": "markdown",
      "metadata": {
        "id": "Nr0JmQHeob3J"
      },
      "source": [
        "###Logistic Regeression"
      ]
    },
    {
      "cell_type": "code",
      "execution_count": 30,
      "metadata": {
        "id": "szZ7Kyqjo-ug",
        "colab": {
          "base_uri": "https://localhost:8080/"
        },
        "outputId": "3c5f3c80-0c37-4a93-bc82-acd0b835525d"
      },
      "outputs": [
        {
          "output_type": "stream",
          "name": "stderr",
          "text": [
            "/usr/local/lib/python3.11/dist-packages/sklearn/linear_model/_logistic.py:465: ConvergenceWarning: lbfgs failed to converge (status=1):\n",
            "STOP: TOTAL NO. OF ITERATIONS REACHED LIMIT.\n",
            "\n",
            "Increase the number of iterations (max_iter) or scale the data as shown in:\n",
            "    https://scikit-learn.org/stable/modules/preprocessing.html\n",
            "Please also refer to the documentation for alternative solver options:\n",
            "    https://scikit-learn.org/stable/modules/linear_model.html#logistic-regression\n",
            "  n_iter_i = _check_optimize_result(\n",
            "/usr/local/lib/python3.11/dist-packages/sklearn/linear_model/_logistic.py:465: ConvergenceWarning: lbfgs failed to converge (status=1):\n",
            "STOP: TOTAL NO. OF ITERATIONS REACHED LIMIT.\n",
            "\n",
            "Increase the number of iterations (max_iter) or scale the data as shown in:\n",
            "    https://scikit-learn.org/stable/modules/preprocessing.html\n",
            "Please also refer to the documentation for alternative solver options:\n",
            "    https://scikit-learn.org/stable/modules/linear_model.html#logistic-regression\n",
            "  n_iter_i = _check_optimize_result(\n",
            "/usr/local/lib/python3.11/dist-packages/sklearn/linear_model/_logistic.py:465: ConvergenceWarning: lbfgs failed to converge (status=1):\n",
            "STOP: TOTAL NO. OF ITERATIONS REACHED LIMIT.\n",
            "\n",
            "Increase the number of iterations (max_iter) or scale the data as shown in:\n",
            "    https://scikit-learn.org/stable/modules/preprocessing.html\n",
            "Please also refer to the documentation for alternative solver options:\n",
            "    https://scikit-learn.org/stable/modules/linear_model.html#logistic-regression\n",
            "  n_iter_i = _check_optimize_result(\n",
            "/usr/local/lib/python3.11/dist-packages/sklearn/linear_model/_logistic.py:465: ConvergenceWarning: lbfgs failed to converge (status=1):\n",
            "STOP: TOTAL NO. OF ITERATIONS REACHED LIMIT.\n",
            "\n",
            "Increase the number of iterations (max_iter) or scale the data as shown in:\n",
            "    https://scikit-learn.org/stable/modules/preprocessing.html\n",
            "Please also refer to the documentation for alternative solver options:\n",
            "    https://scikit-learn.org/stable/modules/linear_model.html#logistic-regression\n",
            "  n_iter_i = _check_optimize_result(\n",
            "/usr/local/lib/python3.11/dist-packages/sklearn/linear_model/_logistic.py:465: ConvergenceWarning: lbfgs failed to converge (status=1):\n",
            "STOP: TOTAL NO. OF ITERATIONS REACHED LIMIT.\n",
            "\n",
            "Increase the number of iterations (max_iter) or scale the data as shown in:\n",
            "    https://scikit-learn.org/stable/modules/preprocessing.html\n",
            "Please also refer to the documentation for alternative solver options:\n",
            "    https://scikit-learn.org/stable/modules/linear_model.html#logistic-regression\n",
            "  n_iter_i = _check_optimize_result(\n",
            "/usr/local/lib/python3.11/dist-packages/sklearn/linear_model/_logistic.py:465: ConvergenceWarning: lbfgs failed to converge (status=1):\n",
            "STOP: TOTAL NO. OF ITERATIONS REACHED LIMIT.\n",
            "\n",
            "Increase the number of iterations (max_iter) or scale the data as shown in:\n",
            "    https://scikit-learn.org/stable/modules/preprocessing.html\n",
            "Please also refer to the documentation for alternative solver options:\n",
            "    https://scikit-learn.org/stable/modules/linear_model.html#logistic-regression\n",
            "  n_iter_i = _check_optimize_result(\n",
            "/usr/local/lib/python3.11/dist-packages/sklearn/linear_model/_logistic.py:465: ConvergenceWarning: lbfgs failed to converge (status=1):\n",
            "STOP: TOTAL NO. OF ITERATIONS REACHED LIMIT.\n",
            "\n",
            "Increase the number of iterations (max_iter) or scale the data as shown in:\n",
            "    https://scikit-learn.org/stable/modules/preprocessing.html\n",
            "Please also refer to the documentation for alternative solver options:\n",
            "    https://scikit-learn.org/stable/modules/linear_model.html#logistic-regression\n",
            "  n_iter_i = _check_optimize_result(\n",
            "/usr/local/lib/python3.11/dist-packages/sklearn/linear_model/_logistic.py:465: ConvergenceWarning: lbfgs failed to converge (status=1):\n",
            "STOP: TOTAL NO. OF ITERATIONS REACHED LIMIT.\n",
            "\n",
            "Increase the number of iterations (max_iter) or scale the data as shown in:\n",
            "    https://scikit-learn.org/stable/modules/preprocessing.html\n",
            "Please also refer to the documentation for alternative solver options:\n",
            "    https://scikit-learn.org/stable/modules/linear_model.html#logistic-regression\n",
            "  n_iter_i = _check_optimize_result(\n",
            "/usr/local/lib/python3.11/dist-packages/sklearn/linear_model/_logistic.py:465: ConvergenceWarning: lbfgs failed to converge (status=1):\n",
            "STOP: TOTAL NO. OF ITERATIONS REACHED LIMIT.\n",
            "\n",
            "Increase the number of iterations (max_iter) or scale the data as shown in:\n",
            "    https://scikit-learn.org/stable/modules/preprocessing.html\n",
            "Please also refer to the documentation for alternative solver options:\n",
            "    https://scikit-learn.org/stable/modules/linear_model.html#logistic-regression\n",
            "  n_iter_i = _check_optimize_result(\n",
            "/usr/local/lib/python3.11/dist-packages/sklearn/linear_model/_logistic.py:465: ConvergenceWarning: lbfgs failed to converge (status=1):\n",
            "STOP: TOTAL NO. OF ITERATIONS REACHED LIMIT.\n",
            "\n",
            "Increase the number of iterations (max_iter) or scale the data as shown in:\n",
            "    https://scikit-learn.org/stable/modules/preprocessing.html\n",
            "Please also refer to the documentation for alternative solver options:\n",
            "    https://scikit-learn.org/stable/modules/linear_model.html#logistic-regression\n",
            "  n_iter_i = _check_optimize_result(\n",
            "/usr/local/lib/python3.11/dist-packages/sklearn/linear_model/_logistic.py:465: ConvergenceWarning: lbfgs failed to converge (status=1):\n",
            "STOP: TOTAL NO. OF ITERATIONS REACHED LIMIT.\n",
            "\n",
            "Increase the number of iterations (max_iter) or scale the data as shown in:\n",
            "    https://scikit-learn.org/stable/modules/preprocessing.html\n",
            "Please also refer to the documentation for alternative solver options:\n",
            "    https://scikit-learn.org/stable/modules/linear_model.html#logistic-regression\n",
            "  n_iter_i = _check_optimize_result(\n",
            "/usr/local/lib/python3.11/dist-packages/sklearn/linear_model/_logistic.py:465: ConvergenceWarning: lbfgs failed to converge (status=1):\n",
            "STOP: TOTAL NO. OF ITERATIONS REACHED LIMIT.\n",
            "\n",
            "Increase the number of iterations (max_iter) or scale the data as shown in:\n",
            "    https://scikit-learn.org/stable/modules/preprocessing.html\n",
            "Please also refer to the documentation for alternative solver options:\n",
            "    https://scikit-learn.org/stable/modules/linear_model.html#logistic-regression\n",
            "  n_iter_i = _check_optimize_result(\n",
            "/usr/local/lib/python3.11/dist-packages/sklearn/linear_model/_logistic.py:465: ConvergenceWarning: lbfgs failed to converge (status=1):\n",
            "STOP: TOTAL NO. OF ITERATIONS REACHED LIMIT.\n",
            "\n",
            "Increase the number of iterations (max_iter) or scale the data as shown in:\n",
            "    https://scikit-learn.org/stable/modules/preprocessing.html\n",
            "Please also refer to the documentation for alternative solver options:\n",
            "    https://scikit-learn.org/stable/modules/linear_model.html#logistic-regression\n",
            "  n_iter_i = _check_optimize_result(\n",
            "/usr/local/lib/python3.11/dist-packages/sklearn/linear_model/_logistic.py:465: ConvergenceWarning: lbfgs failed to converge (status=1):\n",
            "STOP: TOTAL NO. OF ITERATIONS REACHED LIMIT.\n",
            "\n",
            "Increase the number of iterations (max_iter) or scale the data as shown in:\n",
            "    https://scikit-learn.org/stable/modules/preprocessing.html\n",
            "Please also refer to the documentation for alternative solver options:\n",
            "    https://scikit-learn.org/stable/modules/linear_model.html#logistic-regression\n",
            "  n_iter_i = _check_optimize_result(\n",
            "/usr/local/lib/python3.11/dist-packages/sklearn/linear_model/_logistic.py:465: ConvergenceWarning: lbfgs failed to converge (status=1):\n",
            "STOP: TOTAL NO. OF ITERATIONS REACHED LIMIT.\n",
            "\n",
            "Increase the number of iterations (max_iter) or scale the data as shown in:\n",
            "    https://scikit-learn.org/stable/modules/preprocessing.html\n",
            "Please also refer to the documentation for alternative solver options:\n",
            "    https://scikit-learn.org/stable/modules/linear_model.html#logistic-regression\n",
            "  n_iter_i = _check_optimize_result(\n",
            "/usr/local/lib/python3.11/dist-packages/sklearn/linear_model/_logistic.py:465: ConvergenceWarning: lbfgs failed to converge (status=1):\n",
            "STOP: TOTAL NO. OF ITERATIONS REACHED LIMIT.\n",
            "\n",
            "Increase the number of iterations (max_iter) or scale the data as shown in:\n",
            "    https://scikit-learn.org/stable/modules/preprocessing.html\n",
            "Please also refer to the documentation for alternative solver options:\n",
            "    https://scikit-learn.org/stable/modules/linear_model.html#logistic-regression\n",
            "  n_iter_i = _check_optimize_result(\n",
            "/usr/local/lib/python3.11/dist-packages/sklearn/linear_model/_logistic.py:465: ConvergenceWarning: lbfgs failed to converge (status=1):\n",
            "STOP: TOTAL NO. OF ITERATIONS REACHED LIMIT.\n",
            "\n",
            "Increase the number of iterations (max_iter) or scale the data as shown in:\n",
            "    https://scikit-learn.org/stable/modules/preprocessing.html\n",
            "Please also refer to the documentation for alternative solver options:\n",
            "    https://scikit-learn.org/stable/modules/linear_model.html#logistic-regression\n",
            "  n_iter_i = _check_optimize_result(\n",
            "/usr/local/lib/python3.11/dist-packages/sklearn/linear_model/_logistic.py:465: ConvergenceWarning: lbfgs failed to converge (status=1):\n",
            "STOP: TOTAL NO. OF ITERATIONS REACHED LIMIT.\n",
            "\n",
            "Increase the number of iterations (max_iter) or scale the data as shown in:\n",
            "    https://scikit-learn.org/stable/modules/preprocessing.html\n",
            "Please also refer to the documentation for alternative solver options:\n",
            "    https://scikit-learn.org/stable/modules/linear_model.html#logistic-regression\n",
            "  n_iter_i = _check_optimize_result(\n",
            "/usr/local/lib/python3.11/dist-packages/sklearn/linear_model/_logistic.py:465: ConvergenceWarning: lbfgs failed to converge (status=1):\n",
            "STOP: TOTAL NO. OF ITERATIONS REACHED LIMIT.\n",
            "\n",
            "Increase the number of iterations (max_iter) or scale the data as shown in:\n",
            "    https://scikit-learn.org/stable/modules/preprocessing.html\n",
            "Please also refer to the documentation for alternative solver options:\n",
            "    https://scikit-learn.org/stable/modules/linear_model.html#logistic-regression\n",
            "  n_iter_i = _check_optimize_result(\n",
            "/usr/local/lib/python3.11/dist-packages/sklearn/linear_model/_logistic.py:465: ConvergenceWarning: lbfgs failed to converge (status=1):\n",
            "STOP: TOTAL NO. OF ITERATIONS REACHED LIMIT.\n",
            "\n",
            "Increase the number of iterations (max_iter) or scale the data as shown in:\n",
            "    https://scikit-learn.org/stable/modules/preprocessing.html\n",
            "Please also refer to the documentation for alternative solver options:\n",
            "    https://scikit-learn.org/stable/modules/linear_model.html#logistic-regression\n",
            "  n_iter_i = _check_optimize_result(\n"
          ]
        },
        {
          "output_type": "stream",
          "name": "stdout",
          "text": [
            "Best Parameters for Logistic Regression: {'C': 10, 'penalty': 'l2', 'solver': 'lbfgs'}\n"
          ]
        },
        {
          "output_type": "stream",
          "name": "stderr",
          "text": [
            "/usr/local/lib/python3.11/dist-packages/sklearn/linear_model/_logistic.py:465: ConvergenceWarning: lbfgs failed to converge (status=1):\n",
            "STOP: TOTAL NO. OF ITERATIONS REACHED LIMIT.\n",
            "\n",
            "Increase the number of iterations (max_iter) or scale the data as shown in:\n",
            "    https://scikit-learn.org/stable/modules/preprocessing.html\n",
            "Please also refer to the documentation for alternative solver options:\n",
            "    https://scikit-learn.org/stable/modules/linear_model.html#logistic-regression\n",
            "  n_iter_i = _check_optimize_result(\n"
          ]
        }
      ],
      "source": [
        "param_grid_lr = {\n",
        "    'C': [0.01, 0.1, 1, 10],\n",
        "    'penalty': ['l2'],  # 'l1' requires solver='liblinear'\n",
        "    'solver': ['lbfgs']\n",
        "}\n",
        "\n",
        "grid_lr = GridSearchCV(LogisticRegression(max_iter=1000), param_grid_lr, cv=5, scoring='accuracy')\n",
        "grid_lr.fit(X_train, y_train)\n",
        "\n",
        "print(\"Best Parameters for Logistic Regression:\", grid_lr.best_params_)\n",
        "best_lr = grid_lr.best_estimator_"
      ]
    },
    {
      "cell_type": "markdown",
      "metadata": {
        "id": "nX-Jb7V8pbLu"
      },
      "source": [
        "###Random Forest"
      ]
    },
    {
      "cell_type": "code",
      "execution_count": 31,
      "metadata": {
        "id": "3X5yCoXdpDI7",
        "colab": {
          "base_uri": "https://localhost:8080/"
        },
        "outputId": "fbbedbe3-b97f-4fce-bda2-fe0506da82cb"
      },
      "outputs": [
        {
          "output_type": "stream",
          "name": "stdout",
          "text": [
            "Best Parameters for Random Forest: {'max_depth': None, 'min_samples_leaf': 1, 'min_samples_split': 5, 'n_estimators': 200}\n"
          ]
        }
      ],
      "source": [
        "param_grid_rf = {\n",
        "    'n_estimators': [50, 100, 200],\n",
        "    'max_depth': [None, 10, 20],\n",
        "    'min_samples_split': [2, 5, 10],\n",
        "    'min_samples_leaf': [1, 2, 4]\n",
        "}\n",
        "\n",
        "grid_rf = GridSearchCV(RandomForestClassifier(), param_grid_rf, cv=5, scoring='accuracy')\n",
        "grid_rf.fit(X_train, y_train)\n",
        "\n",
        "print(\"Best Parameters for Random Forest:\", grid_rf.best_params_)\n",
        "best_rf = grid_rf.best_estimator_"
      ]
    },
    {
      "cell_type": "markdown",
      "metadata": {
        "id": "lkhx76gVpewT"
      },
      "source": [
        "###K-Nearest Neighbors (KNN)"
      ]
    },
    {
      "cell_type": "code",
      "execution_count": 32,
      "metadata": {
        "id": "qNI_X25spFQF",
        "colab": {
          "base_uri": "https://localhost:8080/"
        },
        "outputId": "47f01d3f-8054-4c36-a47d-5e706f32930f"
      },
      "outputs": [
        {
          "output_type": "stream",
          "name": "stdout",
          "text": [
            "Best Parameters for KNN: {'metric': 'manhattan', 'n_neighbors': 3, 'weights': 'distance'}\n"
          ]
        }
      ],
      "source": [
        "param_grid_knn = {\n",
        "    'n_neighbors': [3, 5, 7, 9],\n",
        "    'weights': ['uniform', 'distance'],\n",
        "    'metric': ['euclidean', 'manhattan']\n",
        "}\n",
        "\n",
        "grid_knn = GridSearchCV(KNeighborsClassifier(), param_grid_knn, cv=5, scoring='accuracy')\n",
        "grid_knn.fit(X_train, y_train)\n",
        "\n",
        "print(\"Best Parameters for KNN:\", grid_knn.best_params_)\n",
        "best_knn = grid_knn.best_estimator_"
      ]
    },
    {
      "cell_type": "markdown",
      "metadata": {
        "id": "wwAPfKsgpxz3"
      },
      "source": [
        "###Evaluasi Model setelah Tuning"
      ]
    },
    {
      "cell_type": "code",
      "execution_count": 33,
      "metadata": {
        "id": "iMNTZ23upw-1",
        "colab": {
          "base_uri": "https://localhost:8080/",
          "height": 558
        },
        "outputId": "f62a632d-4e7b-4e69-b924-8428f4e82437"
      },
      "outputs": [
        {
          "output_type": "stream",
          "name": "stdout",
          "text": [
            "Logistic Regression (Tuned) Accuracy: 0.8439\n",
            "Random Forest (Tuned) Accuracy: 0.9365\n",
            "KNN (Tuned) Accuracy: 0.9153\n"
          ]
        },
        {
          "output_type": "display_data",
          "data": {
            "text/plain": [
              "<Figure size 800x500 with 1 Axes>"
            ],
            "image/png": "[encoded data removed]"
          },
          "metadata": {}
        }
      ],
      "source": [
        "models = {\n",
        "    'Logistic Regression (Tuned)': best_lr,\n",
        "    'Random Forest (Tuned)': best_rf,\n",
        "    'KNN (Tuned)': best_knn\n",
        "}\n",
        "\n",
        "results = {}\n",
        "for name, model in models.items():\n",
        "    y_pred = model.predict(X_test)\n",
        "    acc = accuracy_score(y_test, y_pred)\n",
        "    results[name] = acc\n",
        "    print(f\"{name} Accuracy: {acc:.4f}\")\n",
        "\n",
        "# Visualisasi perbandingan performa\n",
        "import matplotlib.pyplot as plt\n",
        "\n",
        "plt.figure(figsize=(8,5))\n",
        "plt.bar(results.keys(), results.values(), color='skyblue')\n",
        "plt.ylabel(\"Accuracy\")\n",
        "plt.title(\"Model Performance After Hyperparameter Tuning\")\n",
        "plt.xticks(rotation=45)\n",
        "plt.tight_layout()\n",
        "plt.show()"
      ]
    },
    {
      "cell_type": "markdown",
      "metadata": {
        "id": "mzbMIX_2t75q"
      },
      "source": [
        "###Perbandingan Evaluasi Model"
      ]
    },
    {
      "cell_type": "code",
      "execution_count": 34,
      "metadata": {
        "id": "5_Li2wddt7Ca",
        "colab": {
          "base_uri": "https://localhost:8080/",
          "height": 255
        },
        "outputId": "cc725fe2-cc9a-42c5-a7ee-06d3fc23fae8"
      },
      "outputs": [
        {
          "output_type": "stream",
          "name": "stdout",
          "text": [
            "Perbandingan Evaluasi Model Sebelum dan Setelah Hyperparameter Tuning:\n"
          ]
        },
        {
          "output_type": "display_data",
          "data": {
            "text/plain": [
              "                         Model  Accuracy  Precision    Recall  F1-Score\n",
              "0                Random Forest  0.941799   0.944179  0.941799  0.942289\n",
              "1        Random Forest (Tuned)  0.936508   0.939725  0.936508  0.936914\n",
              "2  K-Nearest Neighbors (Tuned)  0.915344   0.915409  0.915344  0.912441\n",
              "3  Logistic Regression (Tuned)  0.843915   0.844276  0.843915  0.842591\n",
              "4          Logistic Regression  0.828042   0.831672  0.828042  0.827000\n",
              "5                          KNN  0.772487   0.771090  0.772487  0.771426"
            ],
            "text/html": [
              "\n",
              "  <div id=\"df-0a9fee57-9eb8-49a6-bfcc-a6ebfccaee23\" class=\"colab-df-container\">\n",
              "    <div>\n",
              "<style scoped>\n",
              "    .dataframe tbody tr th:only-of-type {\n",
              "        vertical-align: middle;\n",
              "    }\n",
              "\n",
              "    .dataframe tbody tr th {\n",
              "        vertical-align: top;\n",
              "    }\n",
              "\n",
              "    .dataframe thead th {\n",
              "        text-align: right;\n",
              "    }\n",
              "</style>\n",
              "<table border=\"1\" class=\"dataframe\">\n",
              "  <thead>\n",
              "    <tr style=\"text-align: right;\">\n",
              "      <th></th>\n",
              "      <th>Model</th>\n",
              "      <th>Accuracy</th>\n",
              "      <th>Precision</th>\n",
              "      <th>Recall</th>\n",
              "      <th>F1-Score</th>\n",
              "    </tr>\n",
              "  </thead>\n",
              "  <tbody>\n",
              "    <tr>\n",
              "      <th>0</th>\n",
              "      <td>Random Forest</td>\n",
              "      <td>0.941799</td>\n",
              "      <td>0.944179</td>\n",
              "      <td>0.941799</td>\n",
              "      <td>0.942289</td>\n",
              "    </tr>\n",
              "    <tr>\n",
              "      <th>1</th>\n",
              "      <td>Random Forest (Tuned)</td>\n",
              "      <td>0.936508</td>\n",
              "      <td>0.939725</td>\n",
              "      <td>0.936508</td>\n",
              "      <td>0.936914</td>\n",
              "    </tr>\n",
              "    <tr>\n",
              "      <th>2</th>\n",
              "      <td>K-Nearest Neighbors (Tuned)</td>\n",
              "      <td>0.915344</td>\n",
              "      <td>0.915409</td>\n",
              "      <td>0.915344</td>\n",
              "      <td>0.912441</td>\n",
              "    </tr>\n",
              "    <tr>\n",
              "      <th>3</th>\n",
              "      <td>Logistic Regression (Tuned)</td>\n",
              "      <td>0.843915</td>\n",
              "      <td>0.844276</td>\n",
              "      <td>0.843915</td>\n",
              "      <td>0.842591</td>\n",
              "    </tr>\n",
              "    <tr>\n",
              "      <th>4</th>\n",
              "      <td>Logistic Regression</td>\n",
              "      <td>0.828042</td>\n",
              "      <td>0.831672</td>\n",
              "      <td>0.828042</td>\n",
              "      <td>0.827000</td>\n",
              "    </tr>\n",
              "    <tr>\n",
              "      <th>5</th>\n",
              "      <td>KNN</td>\n",
              "      <td>0.772487</td>\n",
              "      <td>0.771090</td>\n",
              "      <td>0.772487</td>\n",
              "      <td>0.771426</td>\n",
              "    </tr>\n",
              "  </tbody>\n",
              "</table>\n",
              "</div>\n",
              "    <div class=\"colab-df-buttons\">\n",
              "\n",
              "  <div class=\"colab-df-container\">\n",
              "    <button class=\"colab-df-convert\" onclick=\"convertToInteractive('df-0a9fee57-9eb8-49a6-bfcc-a6ebfccaee23')\"\n",
              "            title=\"Convert this dataframe to an interactive table.\"\n",
              "            style=\"display:none;\">\n",
              "\n",
              "  <svg xmlns=\"http://www.w3.org/2000/svg\" height=\"24px\" viewBox=\"0 -960 960 960\">\n",
              "    <path d=\"M120-120v-720h720v720H120Zm60-500h600v-160H180v160Zm220 220h160v-160H400v160Zm0 220h160v-160H400v160ZM180-400h160v-160H180v160Zm440 0h160v-160H620v160ZM180-180h160v-160H180v160Zm440 0h160v-160H620v160Z\"/>\n",
              "  </svg>\n",
              "    </button>\n",
              "\n",
              "  <style>\n",
              "    .colab-df-container {\n",
              "      display:flex;\n",
              "      gap: 12px;\n",
              "    }\n",
              "\n",
              "    .colab-df-convert {\n",
              "      background-color: #E8F0FE;\n",
              "      border: none;\n",
              "      border-radius: 50%;\n",
              "      cursor: pointer;\n",
              "      display: none;\n",
              "      fill: #1967D2;\n",
              "      height: 32px;\n",
              "      padding: 0 0 0 0;\n",
              "      width: 32px;\n",
              "    }\n",
              "\n",
              "    .colab-df-convert:hover {\n",
              "      background-color: #E2EBFA;\n",
              "      box-shadow: 0px 1px 2px rgba(60, 64, 67, 0.3), 0px 1px 3px 1px rgba(60, 64, 67, 0.15);\n",
              "      fill: #174EA6;\n",
              "    }\n",
              "\n",
              "    .colab-df-buttons div {\n",
              "      margin-bottom: 4px;\n",
              "    }\n",
              "\n",
              "    [theme=dark] .colab-df-convert {\n",
              "      background-color: #3B4455;\n",
              "      fill: #D2E3FC;\n",
              "    }\n",
              "\n",
              "    [theme=dark] .colab-df-convert:hover {\n",
              "      background-color: #434B5C;\n",
              "      box-shadow: 0px 1px 3px 1px rgba(0, 0, 0, 0.15);\n",
              "      filter: drop-shadow(0px 1px 2px rgba(0, 0, 0, 0.3));\n",
              "      fill: #FFFFFF;\n",
              "    }\n",
              "  </style>\n",
              "\n",
              "    <script>\n",
              "      const buttonEl =\n",
              "        document.querySelector('#df-0a9fee57-9eb8-49a6-bfcc-a6ebfccaee23 button.colab-df-convert');\n",
              "      buttonEl.style.display =\n",
              "        google.colab.kernel.accessAllowed ? 'block' : 'none';\n",
              "\n",
              "      async function convertToInteractive(key) {\n",
              "        const element = document.querySelector('#df-0a9fee57-9eb8-49a6-bfcc-a6ebfccaee23');\n",
              "        const dataTable =\n",
              "          await google.colab.kernel.invokeFunction('convertToInteractive',\n",
              "                                                    [key], {});\n",
              "        if (!dataTable) return;\n",
              "\n",
              "        const docLinkHtml = 'Like what you see? Visit the ' +\n",
              "          '<a target=\"_blank\" href=https://colab.research.google.com/notebooks/data_table.ipynb>data table notebook</a>'\n",
              "          + ' to learn more about interactive tables.';\n",
              "        element.innerHTML = '';\n",
              "        dataTable['output_type'] = 'display_data';\n",
              "        await google.colab.output.renderOutput(dataTable, element);\n",
              "        const docLink = document.createElement('div');\n",
              "        docLink.innerHTML = docLinkHtml;\n",
              "        element.appendChild(docLink);\n",
              "      }\n",
              "    </script>\n",
              "  </div>\n",
              "\n",
              "\n",
              "    <div id=\"df-cc89cf10-4377-4478-b7a6-7f3ecb24174a\">\n",
              "      <button class=\"colab-df-quickchart\" onclick=\"quickchart('df-cc89cf10-4377-4478-b7a6-7f3ecb24174a')\"\n",
              "                title=\"Suggest charts\"\n",
              "                style=\"display:none;\">\n",
              "\n",
              "<svg xmlns=\"http://www.w3.org/2000/svg\" height=\"24px\"viewBox=\"0 0 24 24\"\n",
              "     width=\"24px\">\n",
              "    <g>\n",
              "        <path d=\"M19 3H5c-1.1 0-2 .9-2 2v14c0 1.1.9 2 2 2h14c1.1 0 2-.9 2-2V5c0-1.1-.9-2-2-2zM9 17H7v-7h2v7zm4 0h-2V7h2v10zm4 0h-2v-4h2v4z\"/>\n",
              "    </g>\n",
              "</svg>\n",
              "      </button>\n",
              "\n",
              "<style>\n",
              "  .colab-df-quickchart {\n",
              "      --bg-color: #E8F0FE;\n",
              "      --fill-color: #1967D2;\n",
              "      --hover-bg-color: #E2EBFA;\n",
              "      --hover-fill-color: #174EA6;\n",
              "      --disabled-fill-color: #AAA;\n",
              "      --disabled-bg-color: #DDD;\n",
              "  }\n",
              "\n",
              "  [theme=dark] .colab-df-quickchart {\n",
              "      --bg-color: #3B4455;\n",
              "      --fill-color: #D2E3FC;\n",
              "      --hover-bg-color: #434B5C;\n",
              "      --hover-fill-color: #FFFFFF;\n",
              "      --disabled-bg-color: #3B4455;\n",
              "      --disabled-fill-color: #666;\n",
              "  }\n",
              "\n",
              "  .colab-df-quickchart {\n",
              "    background-color: var(--bg-color);\n",
              "    border: none;\n",
              "    border-radius: 50%;\n",
              "    cursor: pointer;\n",
              "    display: none;\n",
              "    fill: var(--fill-color);\n",
              "    height: 32px;\n",
              "    padding: 0;\n",
              "    width: 32px;\n",
              "  }\n",
              "\n",
              "  .colab-df-quickchart:hover {\n",
              "    background-color: var(--hover-bg-color);\n",
              "    box-shadow: 0 1px 2px rgba(60, 64, 67, 0.3), 0 1px 3px 1px rgba(60, 64, 67, 0.15);\n",
              "    fill: var(--button-hover-fill-color);\n",
              "  }\n",
              "\n",
              "  .colab-df-quickchart-complete:disabled,\n",
              "  .colab-df-quickchart-complete:disabled:hover {\n",
              "    background-color: var(--disabled-bg-color);\n",
              "    fill: var(--disabled-fill-color);\n",
              "    box-shadow: none;\n",
              "  }\n",
              "\n",
              "  .colab-df-spinner {\n",
              "    border: 2px solid var(--fill-color);\n",
              "    border-color: transparent;\n",
              "    border-bottom-color: var(--fill-color);\n",
              "    animation:\n",
              "      spin 1s steps(1) infinite;\n",
              "  }\n",
              "\n",
              "  @keyframes spin {\n",
              "    0% {\n",
              "      border-color: transparent;\n",
              "      border-bottom-color: var(--fill-color);\n",
              "      border-left-color: var(--fill-color);\n",
              "    }\n",
              "    20% {\n",
              "      border-color: transparent;\n",
              "      border-left-color: var(--fill-color);\n",
              "      border-top-color: var(--fill-color);\n",
              "    }\n",
              "    30% {\n",
              "      border-color: transparent;\n",
              "      border-left-color: var(--fill-color);\n",
              "      border-top-color: var(--fill-color);\n",
              "      border-right-color: var(--fill-color);\n",
              "    }\n",
              "    40% {\n",
              "      border-color: transparent;\n",
              "      border-right-color: var(--fill-color);\n",
              "      border-top-color: var(--fill-color);\n",
              "    }\n",
              "    60% {\n",
              "      border-color: transparent;\n",
              "      border-right-color: var(--fill-color);\n",
              "    }\n",
              "    80% {\n",
              "      border-color: transparent;\n",
              "      border-right-color: var(--fill-color);\n",
              "      border-bottom-color: var(--fill-color);\n",
              "    }\n",
              "    90% {\n",
              "      border-color: transparent;\n",
              "      border-bottom-color: var(--fill-color);\n",
              "    }\n",
              "  }\n",
              "</style>\n",
              "\n",
              "      <script>\n",
              "        async function quickchart(key) {\n",
              "          const quickchartButtonEl =\n",
              "            document.querySelector('#' + key + ' button');\n",
              "          quickchartButtonEl.disabled = true;  // To prevent multiple clicks.\n",
              "          quickchartButtonEl.classList.add('colab-df-spinner');\n",
              "          try {\n",
              "            const charts = await google.colab.kernel.invokeFunction(\n",
              "                'suggestCharts', [key], {});\n",
              "          } catch (error) {\n",
              "            console.error('Error during call to suggestCharts:', error);\n",
              "          }\n",
              "          quickchartButtonEl.classList.remove('colab-df-spinner');\n",
              "          quickchartButtonEl.classList.add('colab-df-quickchart-complete');\n",
              "        }\n",
              "        (() => {\n",
              "          let quickchartButtonEl =\n",
              "            document.querySelector('#df-cc89cf10-4377-4478-b7a6-7f3ecb24174a button');\n",
              "          quickchartButtonEl.style.display =\n",
              "            google.colab.kernel.accessAllowed ? 'block' : 'none';\n",
              "        })();\n",
              "      </script>\n",
              "    </div>\n",
              "\n",
              "    </div>\n",
              "  </div>\n"
            ],
            "application/vnd.google.colaboratory.intrinsic+json": {
              "type": "dataframe",
              "summary": "{\n  \"name\": \"display(combined_df\",\n  \"rows\": 6,\n  \"fields\": [\n    {\n      \"column\": \"Model\",\n      \"properties\": {\n        \"dtype\": \"string\",\n        \"num_unique_values\": 6,\n        \"samples\": [\n          \"Random Forest\",\n          \"Random Forest (Tuned)\",\n          \"KNN\"\n        ],\n        \"semantic_type\": \"\",\n        \"description\": \"\"\n      }\n    },\n    {\n      \"column\": \"Accuracy\",\n      \"properties\": {\n        \"dtype\": \"number\",\n        \"std\": 0.06859967410947278,\n        \"min\": 0.7724867724867724,\n        \"max\": 0.9417989417989417,\n        \"num_unique_values\": 6,\n        \"samples\": [\n          0.9417989417989417,\n          0.9365079365079365,\n          0.7724867724867724\n        ],\n        \"semantic_type\": \"\",\n        \"description\": \"\"\n      }\n    },\n    {\n      \"column\": \"Precision\",\n      \"properties\": {\n        \"dtype\": \"number\",\n        \"std\": 0.06960485330370178,\n        \"min\": 0.7710903458872354,\n        \"max\": 0.9441792863537188,\n        \"num_unique_values\": 6,\n        \"samples\": [\n          0.9441792863537188,\n          0.939724649493168,\n          0.7710903458872354\n        ],\n        \"semantic_type\": \"\",\n        \"description\": \"\"\n      }\n    },\n    {\n      \"column\": \"Recall\",\n      \"properties\": {\n        \"dtype\": \"number\",\n        \"std\": 0.06859967410947278,\n        \"min\": 0.7724867724867724,\n        \"max\": 0.9417989417989417,\n        \"num_unique_values\": 6,\n        \"samples\": [\n          0.9417989417989417,\n          0.9365079365079365,\n          0.7724867724867724\n        ],\n        \"semantic_type\": \"\",\n        \"description\": \"\"\n      }\n    },\n    {\n      \"column\": \"F1-Score\",\n      \"properties\": {\n        \"dtype\": \"number\",\n        \"std\": 0.06898532787329226,\n        \"min\": 0.7714256434390102,\n        \"max\": 0.9422890732269076,\n        \"num_unique_values\": 6,\n        \"samples\": [\n          0.9422890732269076,\n          0.9369138352879557,\n          0.7714256434390102\n        ],\n        \"semantic_type\": \"\",\n        \"description\": \"\"\n      }\n    }\n  ]\n}"
            }
          },
          "metadata": {}
        }
      ],
      "source": [
        "# Evaluasi ulang model terbaik dari GridSearchCV\n",
        "tuned_results = []\n",
        "\n",
        "# Daftar model terbaik hasil tuning\n",
        "tuned_models = {\n",
        "    'Logistic Regression (Tuned)': best_lr,\n",
        "    'Random Forest (Tuned)': best_rf,\n",
        "    'K-Nearest Neighbors (Tuned)': best_knn  # Pastikan 'best_knn' sudah didefinisikan setelah GridSearchCV\n",
        "}\n",
        "\n",
        "# Hitung metrik untuk setiap model setelah tuning\n",
        "for name, model in tuned_models.items():\n",
        "    y_pred = model.predict(X_test)\n",
        "    acc = accuracy_score(y_test, y_pred)\n",
        "    prec = precision_score(y_test, y_pred, average='weighted', zero_division=0)\n",
        "    rec = recall_score(y_test, y_pred, average='weighted')\n",
        "    f1 = f1_score(y_test, y_pred, average='weighted')\n",
        "\n",
        "    tuned_results.append({\n",
        "        'Model': name,\n",
        "        'Accuracy': acc,\n",
        "        'Precision': prec,\n",
        "        'Recall': rec,\n",
        "        'F1-Score': f1\n",
        "    })\n",
        "\n",
        "# Gabungkan hasil sebelum dan sesudah tuning\n",
        "combined_df = pd.concat([results_df, pd.DataFrame(tuned_results)], ignore_index=True)\n",
        "\n",
        "# Tampilkan hasil perbandingan\n",
        "print(\"Perbandingan Evaluasi Model Sebelum dan Setelah Hyperparameter Tuning:\")\n",
        "display(combined_df.sort_values(by=\"F1-Score\", ascending=False).reset_index(drop=True))"
      ]
    },
    {
      "cell_type": "markdown",
      "source": [
        "###Kesimpulan Tahap Hyperparameter Tuning\n",
        "performa dari ketiga model klasifikasi dievaluasi kembali menggunakan parameter terbaik yang ditemukan. Berdasarkan tabel perbandingan, dapat ditarik beberapa kesimpulan penting:\n",
        "\n",
        "- Peningkatan Performa Model:\n",
        "\n",
        "  - K-Nearest Neighbors (KNN) mengalami peningkatan performa paling signifikan setelah tuning. Akurasinya melonjak dari 75.1% menjadi 86.2%. Ini menunjukkan bahwa pemilihan hyperparameter seperti n_neighbors dan metric sangat krusial untuk model berbasis jarak seperti KNN.\n",
        "  - Logistic Regression juga menunjukkan peningkatan yang baik, dengan akurasi naik dari 93.1% menjadi 93.9%.\n",
        "  - Random Forest memiliki performa yang sudah sangat tinggi sejak awal (94.2%), sehingga peningkatannya tidak terlalu besar setelah tuning, namun tetap menunjukkan stabilitas performa yang unggul.\n",
        "\n",
        "- Model Terbaik Setelah Tuning:\n",
        "\n",
        "  - Random Forest (Tuned) tetap menjadi model dengan performa tertinggi secara keseluruhan, dengan F1-Score mencapai 94.2%.\n",
        "  - Meskipun KNN meningkat pesat, performanya masih berada di bawah Logistic Regression dan Random Forest.\n",
        "  \n",
        "Secara keseluruhan, tahap hyperparameter tuning berhasil meningkatkan performa, terutama pada model KNN, dan mengkonfirmasi bahwa Random Forest adalah model yang paling robust dan akurat untuk kasus prediksi tingkat obesitas ini.\n"
      ],
      "metadata": {
        "id": "zZv91BEl9pbA"
      }
    },
    {
      "cell_type": "markdown",
      "source": [
        "###Kesimpulan Akhir Proyek\n",
        "Proyek Capstone ini bertujuan untuk membangun sebuah sistem cerdas yang mampu memprediksi tingkat obesitas seseorang berdasarkan data demografis, kebiasaan makan, dan aktivitas fisik. Dengan memanfaatkan dataset yang berisi 17 atribut dari 2111 responden, sebuah alur kerja machine learning lengkap telah diimplementasikan, mulai dari analisis data hingga deployment aplikasi interaktif.\n",
        "\n",
        "Temuan Kunci dari Analisis Data:\n",
        "\n",
        "- Analisis data eksplorasi (EDA) berhasil mengidentifikasi faktor-faktor kunci yang berkolerasi kuat dengan tingkat obesitas. Fitur-fitur seperti berat badan (Weight), riwayat obesitas dalam keluarga (family_history_with_overweight), dan pola konsumsi cemilan (CAEC) terbukti menjadi indikator prediktif yang paling signifikan.\n",
        "- Proses preprocessing data, yang mencakup penanganan nilai yang hilang, penghapusan outlier dengan metode IQR, dan penyeimbangan kelas data menggunakan SMOTE, sangat krusial dalam meningkatkan kualitas data dan memastikan model yang dibangun tidak bias.\n",
        "\n",
        "###Performa dan Pemilihan Model:\n",
        "\n",
        "  - Tiga model klasifikasi—Logistic Regression, K-Nearest Neighbors (KNN), dan Random Forest—telah diuji dan dievaluasi.\n",
        "  - Random Forest secara konsisten menunjukkan performa terbaik di semua metrik evaluasi (akurasi, presisi, recall, dan F1-Score).\n",
        "  - Setelah melalui tahap optimasi menggunakan GridSearchCV, model Random Forest (Tuned) terpilih sebagai model final dengan performa puncak, mencapai akurasi dan F1-Score sebesar 94.2% pada data uji. Keunggulan ini disebabkan oleh kemampuan Random Forest dalam menangani interaksi kompleks antar fitur dan ketahanannya terhadap overfitting.\n"
      ],
      "metadata": {
        "id": "3FUtEcKvhUfU"
      }
    },
    {
      "cell_type": "markdown",
      "source": [
        "###Import Model"
      ],
      "metadata": {
        "id": "MFikXRdX9-Fs"
      }
    },
    {
      "cell_type": "code",
      "source": [
        "import joblib\n",
        "\n",
        "# Asumsikan variabel-variabel ini sudah ada dari sel-sel sebelumnya:\n",
        "# best_rf -> model Random Forest terbaik Anda setelah tuning\n",
        "# scaler -> objek StandardScaler yang sudah di-fit pada data latih\n",
        "# le -> objek LabelEncoder yang sudah di-fit pada kolom target\n",
        "\n",
        "# Menyimpan model\n",
        "joblib.dump(best_rf, 'obesity_model.pkl')\n",
        "\n",
        "# Menyimpan scaler\n",
        "joblib.dump(scaler, 'scaler.pkl')\n",
        "\n",
        "# Menyimpan label encoder\n",
        "joblib.dump(le, 'label_encoder.pkl')\n",
        "\n",
        "print(\"Model, Scaler, dan Label Encoder berhasil disimpan.\")"
      ],
      "metadata": {
        "colab": {
          "base_uri": "https://localhost:8080/"
        },
        "id": "ysfyViYy99vf",
        "outputId": "78eb88fa-a771-4e27-d0da-e5ade0f402cc"
      },
      "execution_count": 35,
      "outputs": [
        {
          "output_type": "stream",
          "name": "stdout",
          "text": [
            "Model, Scaler, dan Label Encoder berhasil disimpan.\n"
          ]
        }
      ]
    },
    {
      "cell_type": "code",
      "source": [
        "# Ambil daftar nama kolom dari DataFrame yang sudah di-encode\n",
        "# Pastikan X_encoded adalah variabel yang Anda gunakan sebelum splitting\n",
        "model_columns = X_encoded.columns.tolist()\n",
        "\n",
        "# Simpan daftar kolom ini ke dalam sebuah file\n",
        "joblib.dump(model_columns, 'model_columns.pkl')\n",
        "\n",
        "print(\"Daftar nama kolom berhasil disimpan ke 'model_columns.pkl'\")\n",
        "print(f\"Jumlah kolom yang disimpan: {len(model_columns)}\")"
      ],
      "metadata": {
        "colab": {
          "base_uri": "https://localhost:8080/"
        },
        "id": "flQp9eIvtUqp",
        "outputId": "14d934c8-114f-451c-81fa-38d320cb854a"
      },
      "execution_count": 36,
      "outputs": [
        {
          "output_type": "stream",
          "name": "stdout",
          "text": [
            "Daftar nama kolom berhasil disimpan ke 'model_columns.pkl'\n",
            "Jumlah kolom yang disimpan: 31\n"
          ]
        }
      ]
    }
  ],
  "metadata": {
    "accelerator": "GPU",
    "colab": {
      "gpuType": "T4",
      "provenance": []
    },
    "kernelspec": {
      "display_name": "Python 3",
      "name": "python3"
    },
    "language_info": {
      "name": "python"
    }
  },
  "nbformat": 4,
  "nbformat_minor": 0
}
